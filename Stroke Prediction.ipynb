{
 "cells": [
  {
   "cell_type": "markdown",
   "id": "f2ad6026",
   "metadata": {},
   "source": [
    "# Stroke Prediction"
   ]
  },
  {
   "cell_type": "markdown",
   "id": "7a5f46c7",
   "metadata": {},
   "source": [
    "# "
   ]
  },
  {
   "cell_type": "markdown",
   "id": "ce8c89a9",
   "metadata": {},
   "source": [
    "### Introduction & Importing Libraries"
   ]
  },
  {
   "cell_type": "code",
   "execution_count": 8,
   "id": "9cc88bca",
   "metadata": {
    "scrolled": true
   },
   "outputs": [
    {
     "name": "stderr",
     "output_type": "stream",
     "text": [
      "Loading required package: ggplot2\n",
      "\n",
      "Loading required package: lattice\n",
      "\n",
      "Loading required package: caTools\n",
      "\n",
      "\n",
      "Attaching package: 'dplyr'\n",
      "\n",
      "\n",
      "The following objects are masked from 'package:stats':\n",
      "\n",
      "    filter, lag\n",
      "\n",
      "\n",
      "The following objects are masked from 'package:base':\n",
      "\n",
      "    intersect, setdiff, setequal, union\n",
      "\n",
      "\n",
      "Loading required package: survival\n",
      "\n",
      "\n",
      "Attaching package: 'survival'\n",
      "\n",
      "\n",
      "The following object is masked from 'package:caret':\n",
      "\n",
      "    cluster\n",
      "\n",
      "\n",
      "The following object is masked from 'package:aod':\n",
      "\n",
      "    rats\n",
      "\n",
      "\n",
      "Loading required package: Formula\n",
      "\n",
      "\n",
      "Attaching package: 'Hmisc'\n",
      "\n",
      "\n",
      "The following object is masked from 'package:e1071':\n",
      "\n",
      "    impute\n",
      "\n",
      "\n",
      "The following objects are masked from 'package:dplyr':\n",
      "\n",
      "    src, summarize\n",
      "\n",
      "\n",
      "The following objects are masked from 'package:base':\n",
      "\n",
      "    format.pval, units\n",
      "\n",
      "\n",
      "\n",
      "Attaching package: 'InformationValue'\n",
      "\n",
      "\n",
      "The following objects are masked from 'package:caret':\n",
      "\n",
      "    confusionMatrix, precision, sensitivity, specificity\n",
      "\n",
      "\n",
      "Loading required package: MASS\n",
      "\n",
      "\n",
      "Attaching package: 'MASS'\n",
      "\n",
      "\n",
      "The following object is masked from 'package:dplyr':\n",
      "\n",
      "    select\n",
      "\n",
      "\n",
      "Loading required package: Matrix\n",
      "\n",
      "Loading required package: mvtnorm\n",
      "\n",
      "Loading required package: sandwich\n",
      "\n",
      "mediation: Causal Mediation Analysis\n",
      "Version: 4.5.0\n",
      "\n",
      "\n",
      "naivebayes 0.9.7 loaded\n",
      "\n",
      "Loading required package: grid\n",
      "\n",
      "Loading required package: modeltools\n",
      "\n",
      "Loading required package: stats4\n",
      "\n",
      "Loading required package: strucchange\n",
      "\n",
      "Loading required package: zoo\n",
      "\n",
      "\n",
      "Attaching package: 'zoo'\n",
      "\n",
      "\n",
      "The following objects are masked from 'package:base':\n",
      "\n",
      "    as.Date, as.Date.numeric\n",
      "\n",
      "\n",
      "\n",
      "Attaching package: 'psych'\n",
      "\n",
      "\n",
      "The following object is masked from 'package:mediation':\n",
      "\n",
      "    mediate\n",
      "\n",
      "\n",
      "The following object is masked from 'package:Hmisc':\n",
      "\n",
      "    describe\n",
      "\n",
      "\n",
      "The following objects are masked from 'package:ggplot2':\n",
      "\n",
      "    %+%, alpha\n",
      "\n",
      "\n",
      "Classes and Methods for R developed in the\n",
      "Political Science Computational Laboratory\n",
      "Department of Political Science\n",
      "Stanford University\n",
      "Simon Jackman\n",
      "hurdle and zeroinfl functions by Achim Zeileis\n",
      "\n",
      "randomForest 4.6-14\n",
      "\n",
      "Type rfNews() to see new features/changes/bug fixes.\n",
      "\n",
      "\n",
      "Attaching package: 'randomForest'\n",
      "\n",
      "\n",
      "The following object is masked from 'package:psych':\n",
      "\n",
      "    outlier\n",
      "\n",
      "\n",
      "The following object is masked from 'package:dplyr':\n",
      "\n",
      "    combine\n",
      "\n",
      "\n",
      "The following object is masked from 'package:ggplot2':\n",
      "\n",
      "    margin\n",
      "\n",
      "\n",
      "Loading required package: rpart\n",
      "\n"
     ]
    }
   ],
   "source": [
    "#Dataset: https://www.kaggle.com/datasets/fedesoriano/stroke-prediction-dataset\n",
    "#Loading libraries\n",
    "\n",
    "library(aod)\n",
    "library(caret)\n",
    "require(caTools)\n",
    "library(class)\n",
    "library(datasets)\n",
    "library(dplyr)\n",
    "library(e1071)\n",
    "library(fastDummies)\n",
    "library(ggplot2)\n",
    "library(Hmisc)\n",
    "library(InformationValue)\n",
    "library(mediation)\n",
    "library(naivebayes)\n",
    "library(party)\n",
    "library(psych)\n",
    "library(pscl)\n",
    "library(randomForest)\n",
    "library(reshape2)\n",
    "library(rpart.plot)"
   ]
  },
  {
   "cell_type": "markdown",
   "id": "4c8772c3",
   "metadata": {},
   "source": [
    "### Data Preparation"
   ]
  },
  {
   "cell_type": "code",
   "execution_count": 81,
   "id": "b07ad9db",
   "metadata": {},
   "outputs": [],
   "source": [
    "#Loading the dataset\n",
    "stroke <- read.csv('healthcare-dataset-stroke-data.csv')"
   ]
  },
  {
   "cell_type": "code",
   "execution_count": 82,
   "id": "44fb869d",
   "metadata": {},
   "outputs": [
    {
     "name": "stdout",
     "output_type": "stream",
     "text": [
      "[1] Number of rows before cleaning: \n"
     ]
    },
    {
     "data": {
      "text/html": [
       "5110"
      ],
      "text/latex": [
       "5110"
      ],
      "text/markdown": [
       "5110"
      ],
      "text/plain": [
       "[1] 5110"
      ]
     },
     "metadata": {},
     "output_type": "display_data"
    }
   ],
   "source": [
    "print(\"Number of rows before cleaning: \", quote=FALSE)\n",
    "nrow(stroke)"
   ]
  },
  {
   "cell_type": "code",
   "execution_count": 83,
   "id": "074aa09e",
   "metadata": {
    "scrolled": false
   },
   "outputs": [],
   "source": [
    "#Removing unusable data\n",
    "stroke <- subset(stroke, bmi != 'N/A')\n",
    "stroke <- subset(stroke, smoking_status != 'Unknown')\n",
    "stroke <- subset(stroke, gender!= 'Other')"
   ]
  },
  {
   "cell_type": "code",
   "execution_count": 84,
   "id": "b09318c9",
   "metadata": {},
   "outputs": [],
   "source": [
    "#Creating dummy variables\n",
    "stroke$ever_married[stroke$ever_married == 'Yes'] <- '1'\n",
    "stroke$ever_married[stroke$ever_married == 'No'] <- '0' \n",
    "stroke <- dummy_cols(stroke, select_columns = 'work_type')\n",
    "stroke <- dummy_cols(stroke, select_columns = 'Residence_type')\n",
    "stroke <- dummy_cols(stroke, select_columns = 'smoking_status')\n",
    "stroke <- dummy_cols(stroke, select_columns = 'gender')\n"
   ]
  },
  {
   "cell_type": "code",
   "execution_count": 85,
   "id": "17d0ca93",
   "metadata": {},
   "outputs": [
    {
     "name": "stdout",
     "output_type": "stream",
     "text": [
      "[1] Number of rows after cleaning: \n"
     ]
    },
    {
     "data": {
      "text/html": [
       "3425"
      ],
      "text/latex": [
       "3425"
      ],
      "text/markdown": [
       "3425"
      ],
      "text/plain": [
       "[1] 3425"
      ]
     },
     "metadata": {},
     "output_type": "display_data"
    }
   ],
   "source": [
    "print(\"Number of rows after cleaning: \", quote=FALSE)\n",
    "nrow(stroke)"
   ]
  },
  {
   "cell_type": "code",
   "execution_count": 86,
   "id": "4e202cd9",
   "metadata": {
    "scrolled": true
   },
   "outputs": [],
   "source": [
    "#Turning columns numeric\n",
    "stroke$bmi <- as.numeric(stroke$bmi)\n",
    "stroke$ever_married <- as.double(stroke$ever_married)"
   ]
  },
  {
   "cell_type": "code",
   "execution_count": 89,
   "id": "a8d8f3e1",
   "metadata": {},
   "outputs": [],
   "source": [
    "#Removing non-numeric columns\n",
    "stroke <- stroke[c(-1,-2,-7,-8,-11)]"
   ]
  },
  {
   "cell_type": "markdown",
   "id": "c0f8630f",
   "metadata": {},
   "source": [
    "### Descriptive Statistics Visualizations"
   ]
  },
  {
   "cell_type": "code",
   "execution_count": 91,
   "id": "3d4a3c95",
   "metadata": {
    "scrolled": true
   },
   "outputs": [
    {
     "data": {
      "image/png": "[encoded data removed]",
      "text/plain": [
       "Plot with title \"Stroke by Age\""
      ]
     },
     "metadata": {
      "image/png": {
       "height": 420,
       "width": 420
      }
     },
     "output_type": "display_data"
    }
   ],
   "source": [
    "hist(stroke$age, main=\"Stroke by Age\", xlab='Age')"
   ]
  },
  {
   "cell_type": "code",
   "execution_count": 92,
   "id": "739115f0",
   "metadata": {
    "scrolled": false
   },
   "outputs": [
    {
     "data": {
      "image/png": "[encoded data removed]",
      "text/plain": [
       "Plot with title \"Stroke by Heart Disease\""
      ]
     },
     "metadata": {
      "image/png": {
       "height": 420,
       "width": 420
      }
     },
     "output_type": "display_data"
    }
   ],
   "source": [
    "hist(stroke$heart_disease, main=\"Stroke by Heart Disease\", xlab='Had Heart Disease')"
   ]
  },
  {
   "cell_type": "code",
   "execution_count": 93,
   "id": "98ffbdd8",
   "metadata": {},
   "outputs": [
    {
     "data": {
      "image/png": "[encoded data removed]",
      "text/plain": [
       "Plot with title \"Stroke by Marital Status\""
      ]
     },
     "metadata": {
      "image/png": {
       "height": 420,
       "width": 420
      }
     },
     "output_type": "display_data"
    }
   ],
   "source": [
    "hist(stroke$ever_married, main=\"Stroke by Marital Status\", xlab='Ever Had Been Married')"
   ]
  },
  {
   "cell_type": "code",
   "execution_count": 94,
   "id": "4d5fcdc4",
   "metadata": {},
   "outputs": [
    {
     "data": {
      "image/png": "[encoded data removed]",
      "text/plain": [
       "Plot with title \"Stroke by Average Glucose Level\""
      ]
     },
     "metadata": {
      "image/png": {
       "height": 420,
       "width": 420
      }
     },
     "output_type": "display_data"
    }
   ],
   "source": [
    "hist(stroke$avg_glucose_level, main=\"Stroke by Average Glucose Level\", xlab='Average Glucose Level')"
   ]
  },
  {
   "cell_type": "code",
   "execution_count": 95,
   "id": "e2facb6b",
   "metadata": {},
   "outputs": [
    {
     "data": {
      "image/png": "[encoded data removed]",
      "text/plain": [
       "Plot with title \"Stroke by BMI\""
      ]
     },
     "metadata": {
      "image/png": {
       "height": 420,
       "width": 420
      }
     },
     "output_type": "display_data"
    }
   ],
   "source": [
    "hist(stroke$bmi, main=\"Stroke by BMI\", xlab='BMI')"
   ]
  },
  {
   "cell_type": "code",
   "execution_count": 96,
   "id": "fd085842",
   "metadata": {},
   "outputs": [
    {
     "data": {
      "image/png": "[encoded data removed]",
      "text/plain": [
       "Plot with title \"Stroke by Frequency\""
      ]
     },
     "metadata": {
      "image/png": {
       "height": 420,
       "width": 420
      }
     },
     "output_type": "display_data"
    }
   ],
   "source": [
    "hist(stroke$stroke, main=\"Stroke by Frequency\", xlab='Stroke')"
   ]
  },
  {
   "cell_type": "markdown",
   "id": "363dd90a",
   "metadata": {},
   "source": [
    "## Correlation"
   ]
  },
  {
   "cell_type": "code",
   "execution_count": 97,
   "id": "8184377c",
   "metadata": {},
   "outputs": [
    {
     "data": {
      "text/html": [
       "<table class=\"dataframe\">\n",
       "<caption>A data.frame: 18 × 3</caption>\n",
       "<thead>\n",
       "\t<tr><th></th><th scope=col>Var1</th><th scope=col>Var2</th><th scope=col>value</th></tr>\n",
       "\t<tr><th></th><th scope=col>&lt;fct&gt;</th><th scope=col>&lt;fct&gt;</th><th scope=col>&lt;dbl&gt;</th></tr>\n",
       "</thead>\n",
       "<tbody>\n",
       "\t<tr><th scope=row>7</th><td>stroke</td><td>age                           </td><td> 0.242</td></tr>\n",
       "\t<tr><th scope=row>26</th><td>stroke</td><td>hypertension                  </td><td> 0.144</td></tr>\n",
       "\t<tr><th scope=row>45</th><td>stroke</td><td>heart_disease                 </td><td> 0.139</td></tr>\n",
       "\t<tr><th scope=row>64</th><td>stroke</td><td>ever_married                  </td><td> 0.072</td></tr>\n",
       "\t<tr><th scope=row>83</th><td>stroke</td><td>avg_glucose_level             </td><td> 0.141</td></tr>\n",
       "\t<tr><th scope=row>102</th><td>stroke</td><td>bmi                           </td><td> 0.012</td></tr>\n",
       "\t<tr><th scope=row>140</th><td>stroke</td><td>work_type_children            </td><td>-0.034</td></tr>\n",
       "\t<tr><th scope=row>159</th><td>stroke</td><td>work_type_Govt_job            </td><td>-0.015</td></tr>\n",
       "\t<tr><th scope=row>178</th><td>stroke</td><td>work_type_Never_worked        </td><td>-0.015</td></tr>\n",
       "\t<tr><th scope=row>197</th><td>stroke</td><td>work_type_Private             </td><td>-0.018</td></tr>\n",
       "\t<tr><th scope=row>216</th><td>stroke</td><td>work_type_Self-employed       </td><td> 0.050</td></tr>\n",
       "\t<tr><th scope=row>235</th><td>stroke</td><td>Residence_type_Rural          </td><td>-0.006</td></tr>\n",
       "\t<tr><th scope=row>254</th><td>stroke</td><td>Residence_type_Urban          </td><td> 0.006</td></tr>\n",
       "\t<tr><th scope=row>273</th><td>stroke</td><td>smoking_status_formerly smoked</td><td> 0.040</td></tr>\n",
       "\t<tr><th scope=row>292</th><td>stroke</td><td>smoking_status_never smoked   </td><td>-0.035</td></tr>\n",
       "\t<tr><th scope=row>311</th><td>stroke</td><td>smoking_status_smokes         </td><td> 0.001</td></tr>\n",
       "\t<tr><th scope=row>330</th><td>stroke</td><td>gender_Female                 </td><td>-0.012</td></tr>\n",
       "\t<tr><th scope=row>349</th><td>stroke</td><td>gender_Male                   </td><td> 0.012</td></tr>\n",
       "</tbody>\n",
       "</table>\n"
      ],
      "text/latex": [
       "A data.frame: 18 × 3\n",
       "\\begin{tabular}{r|lll}\n",
       "  & Var1 & Var2 & value\\\\\n",
       "  & <fct> & <fct> & <dbl>\\\\\n",
       "\\hline\n",
       "\t7 & stroke & age                            &  0.242\\\\\n",
       "\t26 & stroke & hypertension                   &  0.144\\\\\n",
       "\t45 & stroke & heart\\_disease                  &  0.139\\\\\n",
       "\t64 & stroke & ever\\_married                   &  0.072\\\\\n",
       "\t83 & stroke & avg\\_glucose\\_level              &  0.141\\\\\n",
       "\t102 & stroke & bmi                            &  0.012\\\\\n",
       "\t140 & stroke & work\\_type\\_children             & -0.034\\\\\n",
       "\t159 & stroke & work\\_type\\_Govt\\_job             & -0.015\\\\\n",
       "\t178 & stroke & work\\_type\\_Never\\_worked         & -0.015\\\\\n",
       "\t197 & stroke & work\\_type\\_Private              & -0.018\\\\\n",
       "\t216 & stroke & work\\_type\\_Self-employed        &  0.050\\\\\n",
       "\t235 & stroke & Residence\\_type\\_Rural           & -0.006\\\\\n",
       "\t254 & stroke & Residence\\_type\\_Urban           &  0.006\\\\\n",
       "\t273 & stroke & smoking\\_status\\_formerly smoked &  0.040\\\\\n",
       "\t292 & stroke & smoking\\_status\\_never smoked    & -0.035\\\\\n",
       "\t311 & stroke & smoking\\_status\\_smokes          &  0.001\\\\\n",
       "\t330 & stroke & gender\\_Female                  & -0.012\\\\\n",
       "\t349 & stroke & gender\\_Male                    &  0.012\\\\\n",
       "\\end{tabular}\n"
      ],
      "text/markdown": [
       "\n",
       "A data.frame: 18 × 3\n",
       "\n",
       "| <!--/--> | Var1 &lt;fct&gt; | Var2 &lt;fct&gt; | value &lt;dbl&gt; |\n",
       "|---|---|---|---|\n",
       "| 7 | stroke | age                            |  0.242 |\n",
       "| 26 | stroke | hypertension                   |  0.144 |\n",
       "| 45 | stroke | heart_disease                  |  0.139 |\n",
       "| 64 | stroke | ever_married                   |  0.072 |\n",
       "| 83 | stroke | avg_glucose_level              |  0.141 |\n",
       "| 102 | stroke | bmi                            |  0.012 |\n",
       "| 140 | stroke | work_type_children             | -0.034 |\n",
       "| 159 | stroke | work_type_Govt_job             | -0.015 |\n",
       "| 178 | stroke | work_type_Never_worked         | -0.015 |\n",
       "| 197 | stroke | work_type_Private              | -0.018 |\n",
       "| 216 | stroke | work_type_Self-employed        |  0.050 |\n",
       "| 235 | stroke | Residence_type_Rural           | -0.006 |\n",
       "| 254 | stroke | Residence_type_Urban           |  0.006 |\n",
       "| 273 | stroke | smoking_status_formerly smoked |  0.040 |\n",
       "| 292 | stroke | smoking_status_never smoked    | -0.035 |\n",
       "| 311 | stroke | smoking_status_smokes          |  0.001 |\n",
       "| 330 | stroke | gender_Female                  | -0.012 |\n",
       "| 349 | stroke | gender_Male                    |  0.012 |\n",
       "\n"
      ],
      "text/plain": [
       "    Var1   Var2                           value \n",
       "7   stroke age                             0.242\n",
       "26  stroke hypertension                    0.144\n",
       "45  stroke heart_disease                   0.139\n",
       "64  stroke ever_married                    0.072\n",
       "83  stroke avg_glucose_level               0.141\n",
       "102 stroke bmi                             0.012\n",
       "140 stroke work_type_children             -0.034\n",
       "159 stroke work_type_Govt_job             -0.015\n",
       "178 stroke work_type_Never_worked         -0.015\n",
       "197 stroke work_type_Private              -0.018\n",
       "216 stroke work_type_Self-employed         0.050\n",
       "235 stroke Residence_type_Rural           -0.006\n",
       "254 stroke Residence_type_Urban            0.006\n",
       "273 stroke smoking_status_formerly smoked  0.040\n",
       "292 stroke smoking_status_never smoked    -0.035\n",
       "311 stroke smoking_status_smokes           0.001\n",
       "330 stroke gender_Female                  -0.012\n",
       "349 stroke gender_Male                     0.012"
      ]
     },
     "metadata": {},
     "output_type": "display_data"
    }
   ],
   "source": [
    "cormat <- round(cor(stroke),3)\n",
    "melted_cormat <- melt(cormat)\n",
    "stroke_cormat <- melted_cormat[melted_cormat$Var1 == 'stroke', ]\n",
    "stroke_cormat <- stroke_cormat[stroke_cormat$Var2 != 'stroke', ]\n",
    "stroke_cormat"
   ]
  },
  {
   "cell_type": "code",
   "execution_count": 98,
   "id": "b13bf350",
   "metadata": {
    "scrolled": true
   },
   "outputs": [
    {
     "data": {
      "text/plain": [
       "\n",
       "\tPearson's product-moment correlation\n",
       "\n",
       "data:  stroke$stroke and stroke$age\n",
       "t = 14.622, df = 3423, p-value < 0.00000000000000022\n",
       "alternative hypothesis: true correlation is not equal to 0\n",
       "95 percent confidence interval:\n",
       " 0.2106838 0.2737346\n",
       "sample estimates:\n",
       "      cor \n",
       "0.2424652 \n"
      ]
     },
     "metadata": {},
     "output_type": "display_data"
    },
    {
     "data": {
      "text/plain": [
       "\n",
       "\tPearson's product-moment correlation\n",
       "\n",
       "data:  stroke$stroke and stroke$hypertension\n",
       "t = 8.4911, df = 3423, p-value < 0.00000000000000022\n",
       "alternative hypothesis: true correlation is not equal to 0\n",
       "95 percent confidence interval:\n",
       " 0.1106658 0.1762702\n",
       "sample estimates:\n",
       "      cor \n",
       "0.1436258 \n"
      ]
     },
     "metadata": {},
     "output_type": "display_data"
    },
    {
     "data": {
      "text/plain": [
       "\n",
       "\tPearson's product-moment correlation\n",
       "\n",
       "data:  stroke$stroke and stroke$heart_disease\n",
       "t = 8.1843, df = 3423, p-value = 0.0000000000000003821\n",
       "alternative hypothesis: true correlation is not equal to 0\n",
       "95 percent confidence interval:\n",
       " 0.1055358 0.1712363\n",
       "sample estimates:\n",
       "      cor \n",
       "0.1385384 \n"
      ]
     },
     "metadata": {},
     "output_type": "display_data"
    },
    {
     "data": {
      "text/plain": [
       "\n",
       "\tPearson's product-moment correlation\n",
       "\n",
       "data:  stroke$stroke and stroke$ever_married\n",
       "t = 4.2, df = 3423, p-value = 0.00002737\n",
       "alternative hypothesis: true correlation is not equal to 0\n",
       "95 percent confidence interval:\n",
       " 0.03820194 0.10484360\n",
       "sample estimates:\n",
       "       cor \n",
       "0.07160268 \n"
      ]
     },
     "metadata": {},
     "output_type": "display_data"
    },
    {
     "data": {
      "text/plain": [
       "\n",
       "\tPearson's product-moment correlation\n",
       "\n",
       "data:  stroke$stroke and stroke$avg_glucose_level\n",
       "t = 8.3034, df = 3423, p-value < 0.00000000000000022\n",
       "alternative hypothesis: true correlation is not equal to 0\n",
       "95 percent confidence interval:\n",
       " 0.1075290 0.1731926\n",
       "sample estimates:\n",
       "      cor \n",
       "0.1405153 \n"
      ]
     },
     "metadata": {},
     "output_type": "display_data"
    },
    {
     "data": {
      "text/plain": [
       "\n",
       "\tPearson's product-moment correlation\n",
       "\n",
       "data:  stroke$stroke and stroke$bmi\n",
       "t = 0.67878, df = 3423, p-value = 0.4973\n",
       "alternative hypothesis: true correlation is not equal to 0\n",
       "95 percent confidence interval:\n",
       " -0.0218998  0.0450759\n",
       "sample estimates:\n",
       "       cor \n",
       "0.01160106 \n"
      ]
     },
     "metadata": {},
     "output_type": "display_data"
    },
    {
     "data": {
      "text/plain": [
       "\n",
       "\tPearson's product-moment correlation\n",
       "\n",
       "data:  stroke$stroke and stroke$work_type_children\n",
       "t = -1.9623, df = 3423, p-value = 0.04981\n",
       "alternative hypothesis: true correlation is not equal to 0\n",
       "95 percent confidence interval:\n",
       " -0.06693748497 -0.00002796523\n",
       "sample estimates:\n",
       "        cor \n",
       "-0.03352028 \n"
      ]
     },
     "metadata": {},
     "output_type": "display_data"
    },
    {
     "data": {
      "text/plain": [
       "\n",
       "\tPearson's product-moment correlation\n",
       "\n",
       "data:  stroke$stroke and stroke$work_type_Govt_job\n",
       "t = -0.8603, df = 3423, p-value = 0.3897\n",
       "alternative hypothesis: true correlation is not equal to 0\n",
       "95 percent confidence interval:\n",
       " -0.04817138  0.01879886\n",
       "sample estimates:\n",
       "        cor \n",
       "-0.01470275 \n"
      ]
     },
     "metadata": {},
     "output_type": "display_data"
    },
    {
     "data": {
      "text/plain": [
       "\n",
       "\tPearson's product-moment correlation\n",
       "\n",
       "data:  stroke$stroke and stroke$work_type_Never_worked\n",
       "t = -0.88289, df = 3423, p-value = 0.3774\n",
       "alternative hypothesis: true correlation is not equal to 0\n",
       "95 percent confidence interval:\n",
       " -0.04855652  0.01841295\n",
       "sample estimates:\n",
       "        cor \n",
       "-0.01508871 \n"
      ]
     },
     "metadata": {},
     "output_type": "display_data"
    },
    {
     "data": {
      "text/plain": [
       "\n",
       "\tPearson's product-moment correlation\n",
       "\n",
       "data:  stroke$stroke and stroke$work_type_Private\n",
       "t = -1.0575, df = 3423, p-value = 0.2903\n",
       "alternative hypothesis: true correlation is not equal to 0\n",
       "95 percent confidence interval:\n",
       " -0.05153391  0.01542894\n",
       "sample estimates:\n",
       "        cor \n",
       "-0.01807275 \n"
      ]
     },
     "metadata": {},
     "output_type": "display_data"
    },
    {
     "data": {
      "text/plain": [
       "\n",
       "\tPearson's product-moment correlation\n",
       "\n",
       "data:  stroke$stroke and stroke$`work_type_Self-employed`\n",
       "t = 2.9582, df = 3423, p-value = 0.003116\n",
       "alternative hypothesis: true correlation is not equal to 0\n",
       "95 percent confidence interval:\n",
       " 0.01703313 0.08384722\n",
       "sample estimates:\n",
       "       cor \n",
       "0.05049667 \n"
      ]
     },
     "metadata": {},
     "output_type": "display_data"
    },
    {
     "data": {
      "text/plain": [
       "\n",
       "\tPearson's product-moment correlation\n",
       "\n",
       "data:  stroke$stroke and stroke$Residence_type_Rural\n",
       "t = -0.35098, df = 3423, p-value = 0.7256\n",
       "alternative hypothesis: true correlation is not equal to 0\n",
       "95 percent confidence interval:\n",
       " -0.03948335  0.02749895\n",
       "sample estimates:\n",
       "         cor \n",
       "-0.005998929 \n"
      ]
     },
     "metadata": {},
     "output_type": "display_data"
    },
    {
     "data": {
      "text/plain": [
       "\n",
       "\tPearson's product-moment correlation\n",
       "\n",
       "data:  stroke$stroke and stroke$Residence_type_Urban\n",
       "t = 0.35098, df = 3423, p-value = 0.7256\n",
       "alternative hypothesis: true correlation is not equal to 0\n",
       "95 percent confidence interval:\n",
       " -0.02749895  0.03948335\n",
       "sample estimates:\n",
       "        cor \n",
       "0.005998929 \n"
      ]
     },
     "metadata": {},
     "output_type": "display_data"
    },
    {
     "data": {
      "text/plain": [
       "\n",
       "\tPearson's product-moment correlation\n",
       "\n",
       "data:  stroke$stroke and stroke$`smoking_status_formerly smoked`\n",
       "t = 2.3301, df = 3423, p-value = 0.01986\n",
       "alternative hypothesis: true correlation is not equal to 0\n",
       "95 percent confidence interval:\n",
       " 0.006311359 0.073190096\n",
       "sample estimates:\n",
       "      cor \n",
       "0.0397953 \n"
      ]
     },
     "metadata": {},
     "output_type": "display_data"
    },
    {
     "data": {
      "text/plain": [
       "\n",
       "\tPearson's product-moment correlation\n",
       "\n",
       "data:  stroke$stroke and stroke$`smoking_status_never smoked`\n",
       "t = -2.0492, df = 3423, p-value = 0.04052\n",
       "alternative hypothesis: true correlation is not equal to 0\n",
       "95 percent confidence interval:\n",
       " -0.068415320 -0.001512599\n",
       "sample estimates:\n",
       "        cor \n",
       "-0.03500318 \n"
      ]
     },
     "metadata": {},
     "output_type": "display_data"
    },
    {
     "data": {
      "text/plain": [
       "\n",
       "\tPearson's product-moment correlation\n",
       "\n",
       "data:  stroke$stroke and stroke$smoking_status_smokes\n",
       "t = 0.049766, df = 3423, p-value = 0.9603\n",
       "alternative hypothesis: true correlation is not equal to 0\n",
       "95 percent confidence interval:\n",
       " -0.03264267  0.03434198\n",
       "sample estimates:\n",
       "         cor \n",
       "0.0008506073 \n"
      ]
     },
     "metadata": {},
     "output_type": "display_data"
    },
    {
     "data": {
      "text/plain": [
       "\n",
       "\tPearson's product-moment correlation\n",
       "\n",
       "data:  stroke$stroke and stroke$gender_Female\n",
       "t = -0.72629, df = 3423, p-value = 0.4677\n",
       "alternative hypothesis: true correlation is not equal to 0\n",
       "95 percent confidence interval:\n",
       " -0.04588623  0.02108816\n",
       "sample estimates:\n",
       "        cor \n",
       "-0.01241296 \n"
      ]
     },
     "metadata": {},
     "output_type": "display_data"
    },
    {
     "data": {
      "text/plain": [
       "\n",
       "\tPearson's product-moment correlation\n",
       "\n",
       "data:  stroke$stroke and stroke$gender_Male\n",
       "t = 0.72629, df = 3423, p-value = 0.4677\n",
       "alternative hypothesis: true correlation is not equal to 0\n",
       "95 percent confidence interval:\n",
       " -0.02108816  0.04588623\n",
       "sample estimates:\n",
       "       cor \n",
       "0.01241296 \n"
      ]
     },
     "metadata": {},
     "output_type": "display_data"
    }
   ],
   "source": [
    "options(scipen=999)\n",
    "cor.test(stroke$stroke, stroke$age, method='pearson') #<.001\n",
    "cor.test(stroke$stroke, stroke$hypertension, method='pearson') #<.001\n",
    "cor.test(stroke$stroke, stroke$heart_disease, method='pearson') #<.001\n",
    "cor.test(stroke$stroke, stroke$ever_married, method='pearson') #<.001\n",
    "cor.test(stroke$stroke, stroke$avg_glucose_level, method='pearson') #<.001\n",
    "cor.test(stroke$stroke, stroke$bmi, method='pearson') #~.497\n",
    "cor.test(stroke$stroke, stroke$work_type_children, method='pearson') #.04981\n",
    "cor.test(stroke$stroke, stroke$work_type_Govt_job, method='pearson') #.0390\n",
    "cor.test(stroke$stroke, stroke$work_type_Never_worked, method='pearson') #.377\n",
    "cor.test(stroke$stroke, stroke$work_type_Private, method='pearson') #.290\n",
    "cor.test(stroke$stroke, stroke$`work_type_Self-employed`, method='pearson')#self employed #.003\n",
    "cor.test(stroke$stroke, stroke$Residence_type_Rural, method='pearson') #.726\n",
    "cor.test(stroke$stroke, stroke$Residence_type_Urban, method='pearson') #.726\n",
    "cor.test(stroke$stroke, stroke$`smoking_status_formerly smoked`, method='pearson')#formerly smoked #.020\n",
    "cor.test(stroke$stroke, stroke$`smoking_status_never smoked`, method='pearson')#never smoked #.041\n",
    "cor.test(stroke$stroke, stroke$smoking_status_smokes, method='pearson') #.960\n",
    "cor.test(stroke$stroke, stroke$gender_Female, method='pearson') #.468\n",
    "cor.test(stroke$stroke, stroke$gender_Male, method='pearson') #.468"
   ]
  },
  {
   "cell_type": "code",
   "execution_count": 100,
   "id": "5a7f3426",
   "metadata": {
    "scrolled": true
   },
   "outputs": [
    {
     "data": {
      "image/png": "[encoded data removed]",
      "text/plain": [
       "plot without title"
      ]
     },
     "metadata": {
      "image/png": {
       "height": 960,
       "width": 720
      }
     },
     "output_type": "display_data"
    }
   ],
   "source": [
    "#Correlation heat map\n",
    "options(repr.plot.width=12, repr.plot.height=16)\n",
    "ggplot(data = stroke_cormat, aes(x=Var1, y=Var2, fill=value)) + \n",
    "  geom_tile() + theme(text = element_text(size = 16))  "
   ]
  },
  {
   "cell_type": "markdown",
   "id": "bfa23f54",
   "metadata": {},
   "source": [
    "## Mediation Analysis"
   ]
  },
  {
   "cell_type": "markdown",
   "id": "6735665d",
   "metadata": {},
   "source": [
    "#### Age to Ever Married and Stroke"
   ]
  },
  {
   "cell_type": "code",
   "execution_count": 90,
   "id": "2adfa027",
   "metadata": {},
   "outputs": [
    {
     "data": {
      "text/plain": [
       "\n",
       "Call:\n",
       "glm(formula = stroke ~ ever_married, family = \"binomial\", data = stroke)\n",
       "\n",
       "Deviance Residuals: \n",
       "    Min       1Q   Median       3Q      Max  \n",
       "-0.3565  -0.3565  -0.3565  -0.2214   2.7279  \n",
       "\n",
       "Coefficients:\n",
       "             Estimate Std. Error z value             Pr(>|z|)    \n",
       "(Intercept)   -3.6964     0.2264  -16.33 < 0.0000000000000002 ***\n",
       "ever_married   0.9722     0.2406    4.04            0.0000534 ***\n",
       "---\n",
       "Signif. codes:  0 '***' 0.001 '**' 0.01 '*' 0.05 '.' 0.1 ' ' 1\n",
       "\n",
       "(Dispersion parameter for binomial family taken to be 1)\n",
       "\n",
       "    Null deviance: 1410.9  on 3424  degrees of freedom\n",
       "Residual deviance: 1390.4  on 3423  degrees of freedom\n",
       "AIC: 1394.4\n",
       "\n",
       "Number of Fisher Scoring iterations: 6\n"
      ]
     },
     "metadata": {},
     "output_type": "display_data"
    }
   ],
   "source": [
    "#Logistic regression between stroke and married.\n",
    "stroke_married <- glm(data=stroke, stroke~ever_married, family='binomial')\n",
    "summary(stroke_married)"
   ]
  },
  {
   "cell_type": "code",
   "execution_count": 91,
   "id": "18f9643a",
   "metadata": {
    "scrolled": true
   },
   "outputs": [
    {
     "data": {
      "text/plain": [
       "\n",
       "Call:\n",
       "glm(formula = stroke ~ age, data = stroke)\n",
       "\n",
       "Deviance Residuals: \n",
       "     Min        1Q    Median        3Q       Max  \n",
       "-0.14828  -0.08800  -0.04781   0.00099   0.99525  \n",
       "\n",
       "Coefficients:\n",
       "              Estimate Std. Error t value            Pr(>|t|)    \n",
       "(Intercept) -0.0871110  0.0102433  -8.504 <0.0000000000000002 ***\n",
       "age          0.0028707  0.0001963  14.622 <0.0000000000000002 ***\n",
       "---\n",
       "Signif. codes:  0 '***' 0.001 '**' 0.01 '*' 0.05 '.' 0.1 ' ' 1\n",
       "\n",
       "(Dispersion parameter for gaussian family taken to be 0.04689284)\n",
       "\n",
       "    Null deviance: 170.54  on 3424  degrees of freedom\n",
       "Residual deviance: 160.51  on 3423  degrees of freedom\n",
       "AIC: -756.4\n",
       "\n",
       "Number of Fisher Scoring iterations: 2\n"
      ]
     },
     "metadata": {},
     "output_type": "display_data"
    }
   ],
   "source": [
    "#Logistic regression between stroke and age.\n",
    "stroke_age <- glm(data=stroke, stroke~age)\n",
    "summary(stroke_age)"
   ]
  },
  {
   "cell_type": "code",
   "execution_count": 92,
   "id": "ef706419",
   "metadata": {
    "scrolled": false
   },
   "outputs": [
    {
     "data": {
      "text/plain": [
       "\n",
       "Call:\n",
       "glm(formula = ever_married ~ age, data = stroke)\n",
       "\n",
       "Deviance Residuals: \n",
       "     Min        1Q    Median        3Q       Max  \n",
       "-1.15471  -0.15471   0.09459   0.27266   0.60506  \n",
       "\n",
       "Coefficients:\n",
       "             Estimate Std. Error t value            Pr(>|t|)    \n",
       "(Intercept) 0.1812602  0.0172525   10.51 <0.0000000000000002 ***\n",
       "age         0.0118714  0.0003307   35.90 <0.0000000000000002 ***\n",
       "---\n",
       "Signif. codes:  0 '***' 0.001 '**' 0.01 '*' 0.05 '.' 0.1 ' ' 1\n",
       "\n",
       "(Dispersion parameter for gaussian family taken to be 0.1330228)\n",
       "\n",
       "    Null deviance: 626.80  on 3424  degrees of freedom\n",
       "Residual deviance: 455.34  on 3423  degrees of freedom\n",
       "AIC: 2814.7\n",
       "\n",
       "Number of Fisher Scoring iterations: 2\n"
      ]
     },
     "metadata": {},
     "output_type": "display_data"
    }
   ],
   "source": [
    "#Logistic regression between married and age.\n",
    "married_age <- glm(data=stroke, ever_married~age)\n",
    "summary(married_age)"
   ]
  },
  {
   "cell_type": "markdown",
   "id": "ef224e6c",
   "metadata": {},
   "source": [
    "#### Hypertension to Self Employed and Stroke"
   ]
  },
  {
   "cell_type": "code",
   "execution_count": 121,
   "id": "0d165a00",
   "metadata": {
    "scrolled": true
   },
   "outputs": [
    {
     "data": {
      "text/plain": [
       "\n",
       "Call:\n",
       "glm(formula = stroke ~ hypertension, family = \"binomial\", data = stroke)\n",
       "\n",
       "Deviance Residuals: \n",
       "    Min       1Q   Median       3Q      Max  \n",
       "-0.5486  -0.2885  -0.2885  -0.2885   2.5298  \n",
       "\n",
       "Coefficients:\n",
       "             Estimate Std. Error z value             Pr(>|z|)    \n",
       "(Intercept)  -3.15821    0.09206 -34.305 < 0.0000000000000002 ***\n",
       "hypertension  1.34048    0.16991   7.889  0.00000000000000304 ***\n",
       "---\n",
       "Signif. codes:  0 '***' 0.001 '**' 0.01 '*' 0.05 '.' 0.1 ' ' 1\n",
       "\n",
       "(Dispersion parameter for binomial family taken to be 1)\n",
       "\n",
       "    Null deviance: 1410.9  on 3424  degrees of freedom\n",
       "Residual deviance: 1358.1  on 3423  degrees of freedom\n",
       "AIC: 1362.1\n",
       "\n",
       "Number of Fisher Scoring iterations: 6\n"
      ]
     },
     "metadata": {},
     "output_type": "display_data"
    }
   ],
   "source": [
    "#Logistic regression between stroke and hypertension\n",
    "stroke_hypertension <- glm(data=stroke, stroke~hypertension, family='binomial')\n",
    "summary(stroke_hypertension)"
   ]
  },
  {
   "cell_type": "code",
   "execution_count": 159,
   "id": "2d8fd922",
   "metadata": {
    "scrolled": false
   },
   "outputs": [
    {
     "data": {
      "text/plain": [
       "\n",
       "Call:\n",
       "glm(formula = stroke ~ hypertension, family = \"binomial\", data = stroke)\n",
       "\n",
       "Deviance Residuals: \n",
       "    Min       1Q   Median       3Q      Max  \n",
       "-0.5486  -0.2885  -0.2885  -0.2885   2.5298  \n",
       "\n",
       "Coefficients:\n",
       "             Estimate Std. Error z value             Pr(>|z|)    \n",
       "(Intercept)  -3.15821    0.09206 -34.305 < 0.0000000000000002 ***\n",
       "hypertension  1.34048    0.16991   7.889  0.00000000000000304 ***\n",
       "---\n",
       "Signif. codes:  0 '***' 0.001 '**' 0.01 '*' 0.05 '.' 0.1 ' ' 1\n",
       "\n",
       "(Dispersion parameter for binomial family taken to be 1)\n",
       "\n",
       "    Null deviance: 1410.9  on 3424  degrees of freedom\n",
       "Residual deviance: 1358.1  on 3423  degrees of freedom\n",
       "AIC: 1362.1\n",
       "\n",
       "Number of Fisher Scoring iterations: 6\n"
      ]
     },
     "metadata": {},
     "output_type": "display_data"
    }
   ],
   "source": [
    "#Logistic regression between stroke and self-employed\n",
    "stroke_selfemployed <- glm(data=stroke, stroke~`work_type_Self-employed`, family='binomial')\n",
    "summary(stroke_hypertension)"
   ]
  },
  {
   "cell_type": "code",
   "execution_count": 161,
   "id": "d81d8899",
   "metadata": {},
   "outputs": [
    {
     "data": {
      "text/plain": [
       "\n",
       "Call:\n",
       "glm(formula = hypertension ~ `work_type_Self-employed`, family = \"binomial\", \n",
       "    data = stroke)\n",
       "\n",
       "Deviance Residuals: \n",
       "    Min       1Q   Median       3Q      Max  \n",
       "-0.6293  -0.4722  -0.4722  -0.4722   2.1208  \n",
       "\n",
       "Coefficients:\n",
       "                          Estimate Std. Error z value             Pr(>|z|)    \n",
       "(Intercept)               -2.13747    0.06156 -34.723 < 0.0000000000000002 ***\n",
       "`work_type_Self-employed`  0.61875    0.12073   5.125          0.000000298 ***\n",
       "---\n",
       "Signif. codes:  0 '***' 0.001 '**' 0.01 '*' 0.05 '.' 0.1 ' ' 1\n",
       "\n",
       "(Dispersion parameter for binomial family taken to be 1)\n",
       "\n",
       "    Null deviance: 2501.5  on 3424  degrees of freedom\n",
       "Residual deviance: 2477.0  on 3423  degrees of freedom\n",
       "AIC: 2481\n",
       "\n",
       "Number of Fisher Scoring iterations: 4\n"
      ]
     },
     "metadata": {},
     "output_type": "display_data"
    }
   ],
   "source": [
    "#Logistic regression between hypertension and self employed.\n",
    "hypertension_employed <- glm(data=stroke, hypertension~`work_type_Self-employed`, family='binomial')\n",
    "summary(hypertension_employed)"
   ]
  },
  {
   "cell_type": "markdown",
   "id": "12a9e23f",
   "metadata": {},
   "source": [
    "### Train / Test"
   ]
  },
  {
   "cell_type": "code",
   "execution_count": 23,
   "id": "e118cbd1",
   "metadata": {},
   "outputs": [],
   "source": [
    "set.seed(421) #Setting random seed.\n",
    "dt = sort(sample(nrow(stroke), nrow(stroke)*.7)) #Setting random 70% sample\n",
    "train<-stroke[dt,] #Establishing train.\n",
    "test<-stroke[-dt,] #Establishing test."
   ]
  },
  {
   "cell_type": "markdown",
   "id": "f443b167",
   "metadata": {},
   "source": [
    "### Logistic Regression"
   ]
  },
  {
   "cell_type": "code",
   "execution_count": 24,
   "id": "844989c1",
   "metadata": {
    "scrolled": true
   },
   "outputs": [
    {
     "data": {
      "text/plain": [
       "\n",
       "Call:\n",
       "glm(formula = stroke ~ age + hypertension + heart_disease + ever_married + \n",
       "    avg_glucose_level + bmi + work_type_Govt_job + work_type_Never_worked + \n",
       "    work_type_Private + `work_type_Self-employed` + Residence_type_Rural + \n",
       "    `smoking_status_never smoked` + smoking_status_smokes + gender_Female, \n",
       "    family = \"binomial\", data = train)\n",
       "\n",
       "Deviance Residuals: \n",
       "    Min       1Q   Median       3Q      Max  \n",
       "-1.1854  -0.3338  -0.1957  -0.1148   3.1297  \n",
       "\n",
       "Coefficients:\n",
       "                                 Estimate  Std. Error z value\n",
       "(Intercept)                    -18.734332  535.928816  -0.035\n",
       "age                              0.066829    0.007991   8.363\n",
       "hypertension                     0.732367    0.219863   3.331\n",
       "heart_disease                    0.308641    0.274490   1.124\n",
       "ever_married                    -0.233472    0.297236  -0.785\n",
       "avg_glucose_level                0.004975    0.001687   2.950\n",
       "bmi                             -0.007276    0.015785  -0.461\n",
       "work_type_Govt_job              11.473972  535.928903   0.021\n",
       "work_type_Never_worked          -0.247866 1356.377187   0.000\n",
       "work_type_Private               11.611009  535.928854   0.022\n",
       "`work_type_Self-employed`       11.432338  535.928910   0.021\n",
       "Residence_type_Rural            -0.044706    0.195020  -0.229\n",
       "`smoking_status_never smoked`   -0.146829    0.222192  -0.661\n",
       "smoking_status_smokes            0.015860    0.288051   0.055\n",
       "gender_Female                    0.195911    0.201554   0.972\n",
       "                                          Pr(>|z|)    \n",
       "(Intercept)                               0.972114    \n",
       "age                           < 0.0000000000000002 ***\n",
       "hypertension                              0.000865 ***\n",
       "heart_disease                             0.260837    \n",
       "ever_married                              0.432173    \n",
       "avg_glucose_level                         0.003178 ** \n",
       "bmi                                       0.644863    \n",
       "work_type_Govt_job                        0.982919    \n",
       "work_type_Never_worked                    0.999854    \n",
       "work_type_Private                         0.982715    \n",
       "`work_type_Self-employed`                 0.982981    \n",
       "Residence_type_Rural                      0.818682    \n",
       "`smoking_status_never smoked`             0.508729    \n",
       "smoking_status_smokes                     0.956090    \n",
       "gender_Female                             0.331049    \n",
       "---\n",
       "Signif. codes:  0 '***' 0.001 '**' 0.01 '*' 0.05 '.' 0.1 ' ' 1\n",
       "\n",
       "(Dispersion parameter for binomial family taken to be 1)\n",
       "\n",
       "    Null deviance: 981.78  on 2396  degrees of freedom\n",
       "Residual deviance: 800.68  on 2382  degrees of freedom\n",
       "AIC: 830.68\n",
       "\n",
       "Number of Fisher Scoring iterations: 16\n"
      ]
     },
     "metadata": {},
     "output_type": "display_data"
    }
   ],
   "source": [
    "#Running logistic regression.\n",
    "model <- glm(stroke ~ age + hypertension + heart_disease + ever_married + avg_glucose_level + bmi + work_type_Govt_job +\n",
    "             work_type_Never_worked + work_type_Private + `work_type_Self-employed` + Residence_type_Rural\n",
    "             + `smoking_status_never smoked` + smoking_status_smokes + gender_Female, family=\"binomial\", data=train)\n",
    "options(scipen=999)\n",
    "summary(model)"
   ]
  },
  {
   "cell_type": "code",
   "execution_count": 25,
   "id": "160c52f9",
   "metadata": {},
   "outputs": [
    {
     "name": "stdout",
     "output_type": "stream",
     "text": [
      "fitting null model for pseudo-r2\n"
     ]
    },
    {
     "data": {
      "text/html": [
       "<strong>McFadden:</strong> 0.184464620429438"
      ],
      "text/latex": [
       "\\textbf{McFadden:} 0.184464620429438"
      ],
      "text/markdown": [
       "**McFadden:** 0.184464620429438"
      ],
      "text/plain": [
       " McFadden \n",
       "0.1844646 "
      ]
     },
     "metadata": {},
     "output_type": "display_data"
    }
   ],
   "source": [
    "#Setting fitting model.\n",
    "pscl::pR2(model)[\"McFadden\"]"
   ]
  },
  {
   "cell_type": "code",
   "execution_count": 26,
   "id": "d2e6ebad",
   "metadata": {},
   "outputs": [],
   "source": [
    "#Creating prediction model.\n",
    "test$predicted <- predict(model, test, type=\"response\")"
   ]
  },
  {
   "cell_type": "code",
   "execution_count": 27,
   "id": "99199623",
   "metadata": {
    "scrolled": true
   },
   "outputs": [],
   "source": [
    "#convert defaults from \"Yes\" and \"No\" to 1's and 0's\n",
    "test$default <- ifelse(test$predicted>=.5, 1, 0)"
   ]
  },
  {
   "cell_type": "code",
   "execution_count": 28,
   "id": "22be2fb9",
   "metadata": {},
   "outputs": [
    {
     "data": {
      "text/html": [
       "0.449173754725542"
      ],
      "text/latex": [
       "0.449173754725542"
      ],
      "text/markdown": [
       "0.449173754725542"
      ],
      "text/plain": [
       "[1] 0.4491738"
      ]
     },
     "metadata": {},
     "output_type": "display_data"
    }
   ],
   "source": [
    "#find optimal cutoff probability to use to maximize accuracy\n",
    "optimal <- optimalCutoff(test$default, test$predicted)[1]\n",
    "optimal"
   ]
  },
  {
   "cell_type": "code",
   "execution_count": 29,
   "id": "079bb9a1",
   "metadata": {
    "scrolled": true
   },
   "outputs": [
    {
     "data": {
      "text/html": [
       "<table class=\"dataframe\">\n",
       "<caption>A data.frame: 2 × 2</caption>\n",
       "<thead>\n",
       "\t<tr><th></th><th scope=col>0</th><th scope=col>1</th></tr>\n",
       "\t<tr><th></th><th scope=col>&lt;int&gt;</th><th scope=col>&lt;int&gt;</th></tr>\n",
       "</thead>\n",
       "<tbody>\n",
       "\t<tr><th scope=row>0</th><td>973</td><td>0</td></tr>\n",
       "\t<tr><th scope=row>1</th><td> 54</td><td>1</td></tr>\n",
       "</tbody>\n",
       "</table>\n"
      ],
      "text/latex": [
       "A data.frame: 2 × 2\n",
       "\\begin{tabular}{r|ll}\n",
       "  & 0 & 1\\\\\n",
       "  & <int> & <int>\\\\\n",
       "\\hline\n",
       "\t0 & 973 & 0\\\\\n",
       "\t1 &  54 & 1\\\\\n",
       "\\end{tabular}\n"
      ],
      "text/markdown": [
       "\n",
       "A data.frame: 2 × 2\n",
       "\n",
       "| <!--/--> | 0 &lt;int&gt; | 1 &lt;int&gt; |\n",
       "|---|---|---|\n",
       "| 0 | 973 | 0 |\n",
       "| 1 |  54 | 1 |\n",
       "\n"
      ],
      "text/plain": [
       "  0   1\n",
       "0 973 0\n",
       "1  54 1"
      ]
     },
     "metadata": {},
     "output_type": "display_data"
    }
   ],
   "source": [
    "confusionMatrix(test$default, test$stroke)"
   ]
  },
  {
   "cell_type": "code",
   "execution_count": 30,
   "id": "ecf7ca60",
   "metadata": {},
   "outputs": [
    {
     "data": {
      "text/html": [
       "0.0525"
      ],
      "text/latex": [
       "0.0525"
      ],
      "text/markdown": [
       "0.0525"
      ],
      "text/plain": [
       "[1] 0.0525"
      ]
     },
     "metadata": {},
     "output_type": "display_data"
    }
   ],
   "source": [
    "#calculate specificity\n",
    "logistic_accuracy <- specificity(test$default, test$stroke)\n",
    "\n",
    "#calculate total misclassification error rate\n",
    "misClassError(test$default, test$stroke, threshold=optimal)"
   ]
  },
  {
   "cell_type": "code",
   "execution_count": 31,
   "id": "1e417d8d",
   "metadata": {
    "scrolled": true
   },
   "outputs": [
    {
     "data": {
      "text/html": [
       "94.7419668938656"
      ],
      "text/latex": [
       "94.7419668938656"
      ],
      "text/markdown": [
       "94.7419668938656"
      ],
      "text/plain": [
       "[1] 94.74197"
      ]
     },
     "metadata": {},
     "output_type": "display_data"
    }
   ],
   "source": [
    "logistic_accuracy * 100"
   ]
  },
  {
   "cell_type": "markdown",
   "id": "8c2907c8",
   "metadata": {},
   "source": [
    "### Decision Tree Classifier"
   ]
  },
  {
   "cell_type": "code",
   "execution_count": 32,
   "id": "2dae9ec2",
   "metadata": {
    "scrolled": true
   },
   "outputs": [
    {
     "data": {
      "text/plain": [
       "\n",
       "\t Conditional inference tree with 4 terminal nodes\n",
       "\n",
       "Response:  stroke \n",
       "Inputs:  age, hypertension, heart_disease, ever_married, avg_glucose_level, bmi, work_type_Govt_job, work_type_Never_worked, work_type_Private, work_type_Self-employed, Residence_type_Rural, smoking_status_never smoked, smoking_status_smokes, gender_Female \n",
       "Number of observations:  2397 \n",
       "\n",
       "1) age <= 67; criterion = 1, statistic = 136.548\n",
       "  2) age <= 47; criterion = 1, statistic = 34.764\n",
       "    3)*  weights = 1136 \n",
       "  2) age > 47\n",
       "    4) avg_glucose_level <= 103.37; criterion = 0.992, statistic = 11.901\n",
       "      5)*  weights = 491 \n",
       "    4) avg_glucose_level > 103.37\n",
       "      6)*  weights = 334 \n",
       "1) age > 67\n",
       "  7)*  weights = 436 "
      ]
     },
     "metadata": {},
     "output_type": "display_data"
    }
   ],
   "source": [
    "#Running decision tree model.\n",
    "output.tree <- ctree(stroke ~ age + hypertension + heart_disease + ever_married + avg_glucose_level + bmi + work_type_Govt_job +\n",
    "             work_type_Never_worked + work_type_Private + `work_type_Self-employed` + Residence_type_Rural\n",
    "             + `smoking_status_never smoked` + smoking_status_smokes + gender_Female, data = train)\n",
    "\n",
    "output.tree"
   ]
  },
  {
   "cell_type": "code",
   "execution_count": 33,
   "id": "729b38a2",
   "metadata": {},
   "outputs": [
    {
     "data": {
      "image/png": "[encoded data removed]",
      "text/plain": [
       "plot without title"
      ]
     },
     "metadata": {
      "image/png": {
       "height": 960,
       "width": 720
      }
     },
     "output_type": "display_data"
    }
   ],
   "source": [
    "#Plotting.\n",
    "plot(output.tree)"
   ]
  },
  {
   "cell_type": "code",
   "execution_count": 34,
   "id": "bed19193",
   "metadata": {},
   "outputs": [],
   "source": [
    "predict_model<-predict(output.tree, test)"
   ]
  },
  {
   "cell_type": "code",
   "execution_count": 35,
   "id": "4a17552d",
   "metadata": {},
   "outputs": [
    {
     "data": {
      "text/plain": [
       "   predict_model\n",
       "    0.00704225352112676 0.0264765784114053 0.0868263473053892 0.172018348623853\n",
       "  0                 464                214                116               179\n",
       "  1                   2                 11                  8                34"
      ]
     },
     "metadata": {},
     "output_type": "display_data"
    }
   ],
   "source": [
    "m_at <- table(test$stroke, predict_model)\n",
    "m_at"
   ]
  },
  {
   "cell_type": "code",
   "execution_count": 36,
   "id": "b49f612f",
   "metadata": {},
   "outputs": [
    {
     "data": {
      "text/html": [
       "46.2062256809339"
      ],
      "text/latex": [
       "46.2062256809339"
      ],
      "text/markdown": [
       "46.2062256809339"
      ],
      "text/plain": [
       "[1] 46.20623"
      ]
     },
     "metadata": {},
     "output_type": "display_data"
    }
   ],
   "source": [
    "#Model accuracy.\n",
    "DT_Acc <- sum(diag(m_at)) / sum(m_at)\n",
    "DT_Acc * 100"
   ]
  },
  {
   "cell_type": "markdown",
   "id": "a8381571",
   "metadata": {},
   "source": [
    "### Random Forest Classifier"
   ]
  },
  {
   "cell_type": "code",
   "execution_count": 37,
   "id": "d68ef3a6",
   "metadata": {},
   "outputs": [],
   "source": [
    "#Converting test and train as factors.\n",
    "train$stroke <- as.factor(train$stroke)\n",
    "test$stroke <- as.factor(test$stroke)"
   ]
  },
  {
   "cell_type": "code",
   "execution_count": 38,
   "id": "6518d21b",
   "metadata": {},
   "outputs": [],
   "source": [
    "#Running random forest classifier.\n",
    "rf_default <- train(stroke ~ age + hypertension + heart_disease + ever_married + avg_glucose_level + bmi + work_type_Govt_job +\n",
    "             work_type_Never_worked + work_type_Private + `work_type_Self-employed` + Residence_type_Rural\n",
    "             + `smoking_status_never smoked` + smoking_status_smokes + gender_Female,\n",
    "    data = train,\n",
    "    method = \"rf\",\n",
    "    metric = \"Accuracy\")"
   ]
  },
  {
   "cell_type": "code",
   "execution_count": 39,
   "id": "083ab14a",
   "metadata": {
    "scrolled": true
   },
   "outputs": [
    {
     "data": {
      "text/plain": [
       "Random Forest \n",
       "\n",
       "2397 samples\n",
       "  14 predictor\n",
       "   2 classes: '0', '1' \n",
       "\n",
       "No pre-processing\n",
       "Resampling: Bootstrapped (25 reps) \n",
       "Summary of sample sizes: 2397, 2397, 2397, 2397, 2397, 2397, ... \n",
       "Resampling results across tuning parameters:\n",
       "\n",
       "  mtry  Accuracy   Kappa     \n",
       "   2    0.9483756  0.00000000\n",
       "   8    0.9446536  0.01916729\n",
       "  14    0.9417314  0.02716863\n",
       "\n",
       "Accuracy was used to select the optimal model using the largest value.\n",
       "The final value used for the model was mtry = 2."
      ]
     },
     "metadata": {},
     "output_type": "display_data"
    }
   ],
   "source": [
    "rf_default"
   ]
  },
  {
   "cell_type": "code",
   "execution_count": 40,
   "id": "a7ec80e1",
   "metadata": {
    "scrolled": true
   },
   "outputs": [
    {
     "name": "stdout",
     "output_type": "stream",
     "text": [
      "Random Forest \n",
      "\n",
      "2397 samples\n",
      "  14 predictor\n",
      "   2 classes: '0', '1' \n",
      "\n",
      "No pre-processing\n",
      "Resampling: Bootstrapped (25 reps) \n",
      "Summary of sample sizes: 2397, 2397, 2397, 2397, 2397, 2397, ... \n",
      "Resampling results across tuning parameters:\n",
      "\n",
      "  mtry  Accuracy   Kappa        \n",
      "   1    0.9481065   0.0000000000\n",
      "   2    0.9481065   0.0000000000\n",
      "   3    0.9477866  -0.0006125152\n",
      "   4    0.9471945  -0.0003226908\n",
      "   5    0.9467385   0.0047221666\n",
      "   6    0.9462416   0.0019957343\n",
      "   7    0.9461912   0.0091215583\n",
      "   8    0.9450477   0.0136131844\n",
      "   9    0.9450997   0.0205330873\n",
      "  10    0.9444575   0.0212928691\n",
      "  11    0.9441384   0.0202898663\n",
      "  12    0.9434233   0.0211458821\n",
      "  13    0.9432772   0.0239215151\n",
      "  14    0.9427406   0.0253049234\n",
      "  15    0.9430544   0.0287989928\n",
      "  16    0.9429703   0.0266638276\n",
      "  17    0.9431020   0.0242216093\n",
      "  18    0.9424699   0.0268992615\n",
      "  19    0.9429604   0.0321096319\n",
      "  20    0.9429241   0.0190241284\n",
      "\n",
      "Accuracy was used to select the optimal model using the largest value.\n",
      "The final value used for the model was mtry = 1.\n"
     ]
    }
   ],
   "source": [
    "#Checking each random forest with each mtry.\n",
    "tuneGrid <- expand.grid(.mtry = c(1: 20))\n",
    "rf_mtry <- train(stroke ~ age + hypertension + heart_disease + ever_married + avg_glucose_level + bmi + work_type_Govt_job +\n",
    "             work_type_Never_worked + work_type_Private + `work_type_Self-employed` + Residence_type_Rural\n",
    "             + `smoking_status_never smoked` + smoking_status_smokes + gender_Female,\n",
    "    data = train,\n",
    "    method = \"rf\",\n",
    "    metric = \"Accuracy\",\n",
    "    tuneGrid = tuneGrid,\n",
    "    importance = TRUE,\n",
    "    nodesize = 14,\n",
    "    ntree = 300)\n",
    "print(rf_mtry)"
   ]
  },
  {
   "cell_type": "code",
   "execution_count": 42,
   "id": "8e19120b",
   "metadata": {},
   "outputs": [
    {
     "data": {
      "text/html": [
       "0.948106494380193"
      ],
      "text/latex": [
       "0.948106494380193"
      ],
      "text/markdown": [
       "0.948106494380193"
      ],
      "text/plain": [
       "[1] 0.9481065"
      ]
     },
     "metadata": {},
     "output_type": "display_data"
    }
   ],
   "source": [
    "RFAccuracy<-max(rf_mtry$results$Accuracy)\n",
    "RFAccuracy"
   ]
  },
  {
   "cell_type": "code",
   "execution_count": 44,
   "id": "53b68e3e",
   "metadata": {},
   "outputs": [
    {
     "data": {
      "image/png": "[encoded data removed]",
      "text/plain": [
       "plot without title"
      ]
     },
     "metadata": {
      "image/png": {
       "height": 960,
       "width": 720
      }
     },
     "output_type": "display_data"
    }
   ],
   "source": [
    "#Plotting accuracy for each mtry.\n",
    "plot(rf_mtry)"
   ]
  },
  {
   "cell_type": "markdown",
   "id": "61c87a60",
   "metadata": {},
   "source": [
    "### SVM"
   ]
  },
  {
   "cell_type": "code",
   "execution_count": 45,
   "id": "88f827c2",
   "metadata": {
    "scrolled": true
   },
   "outputs": [],
   "source": [
    "#Running SVM model.\n",
    "svmfit = svm(stroke ~ age + hypertension + heart_disease + ever_married + avg_glucose_level + bmi + work_type_Govt_job +\n",
    "             work_type_Never_worked + work_type_Private + `work_type_Self-employed` + Residence_type_Rural\n",
    "             + `smoking_status_never smoked` + smoking_status_smokes + gender_Female, data = stroke, kernel = \"linear\", cost = 10, scale = FALSE)"
   ]
  },
  {
   "cell_type": "code",
   "execution_count": 46,
   "id": "25c45dbd",
   "metadata": {
    "scrolled": true
   },
   "outputs": [
    {
     "name": "stdout",
     "output_type": "stream",
     "text": [
      "\n",
      "Call:\n",
      "svm(formula = stroke ~ age + hypertension + heart_disease + ever_married + \n",
      "    avg_glucose_level + bmi + work_type_Govt_job + work_type_Never_worked + \n",
      "    work_type_Private + `work_type_Self-employed` + Residence_type_Rural + \n",
      "    `smoking_status_never smoked` + smoking_status_smokes + gender_Female, \n",
      "    data = stroke, kernel = \"linear\", cost = 10, scale = FALSE)\n",
      "\n",
      "\n",
      "Parameters:\n",
      "   SVM-Type:  eps-regression \n",
      " SVM-Kernel:  linear \n",
      "       cost:  10 \n",
      "      gamma:  0.07142857 \n",
      "    epsilon:  0.1 \n",
      "\n",
      "\n",
      "Number of Support Vectors:  2652\n",
      "\n"
     ]
    }
   ],
   "source": [
    "print(svmfit)"
   ]
  },
  {
   "cell_type": "code",
   "execution_count": 110,
   "id": "b73e8476",
   "metadata": {},
   "outputs": [
    {
     "data": {
      "image/png": "[encoded data removed]",
      "text/plain": [
       "plot without title"
      ]
     },
     "metadata": {
      "image/png": {
       "height": 960,
       "width": 720
      }
     },
     "output_type": "display_data"
    }
   ],
   "source": [
    "plot(svmfit$fitted, col = \"red\", pch = 17)\n",
    "points(stroke$stroke, col = \"blue\", pch = 19)"
   ]
  },
  {
   "cell_type": "code",
   "execution_count": 109,
   "id": "59f199a6",
   "metadata": {
    "scrolled": false
   },
   "outputs": [
    {
     "data": {
      "image/png": "[encoded data removed]",
      "text/plain": [
       "plot without title"
      ]
     },
     "metadata": {
      "image/png": {
       "height": 960,
       "width": 720
      }
     },
     "output_type": "display_data"
    }
   ],
   "source": [
    "plot(svmfit$fitted,stroke$stroke, col = c(\"red\", \"blue\"), pch = c(17, 19))"
   ]
  },
  {
   "cell_type": "code",
   "execution_count": 52,
   "id": "46ff888b",
   "metadata": {},
   "outputs": [],
   "source": [
    "pred=predict(svmfit,test[,-7],type='class')"
   ]
  },
  {
   "cell_type": "code",
   "execution_count": 53,
   "id": "07cf093e",
   "metadata": {},
   "outputs": [],
   "source": [
    "test$svm <- ifelse(pred >= .5, 1, 0)"
   ]
  },
  {
   "cell_type": "code",
   "execution_count": 54,
   "id": "0fd02c33",
   "metadata": {
    "scrolled": false
   },
   "outputs": [
    {
     "data": {
      "text/plain": [
       "          Actual\n",
       "Prediction   0   1\n",
       "         0 973  55"
      ]
     },
     "metadata": {},
     "output_type": "display_data"
    }
   ],
   "source": [
    "table((test$svm), test$stroke, dnn=c(\"Prediction\", \"Actual\"))   "
   ]
  },
  {
   "cell_type": "code",
   "execution_count": 55,
   "id": "33366dd6",
   "metadata": {},
   "outputs": [
    {
     "data": {
      "text/html": [
       "0.954280155642023"
      ],
      "text/latex": [
       "0.954280155642023"
      ],
      "text/markdown": [
       "0.954280155642023"
      ],
      "text/plain": [
       "[1] 0.9542802"
      ]
     },
     "metadata": {},
     "output_type": "display_data"
    }
   ],
   "source": [
    "SVM_specificity <- 981/(981+47)\n",
    "SVM_specificity"
   ]
  },
  {
   "cell_type": "markdown",
   "id": "07584b33",
   "metadata": {},
   "source": [
    "### K Nearest Neighbors"
   ]
  },
  {
   "cell_type": "code",
   "execution_count": 56,
   "id": "0423e5f9",
   "metadata": {},
   "outputs": [],
   "source": [
    "#Normalization\n",
    "normalize <- function(x) {\n",
    "return ((x - min(x)) / (max(x) - min(x))) }"
   ]
  },
  {
   "cell_type": "code",
   "execution_count": 57,
   "id": "f9496481",
   "metadata": {},
   "outputs": [],
   "source": [
    "stroke2<- stroke[,c(7,1,2,3,4,5,6,8,9,10,11,12,13,14,15,16,17,18,19)]"
   ]
  },
  {
   "cell_type": "code",
   "execution_count": 58,
   "id": "c4ba891d",
   "metadata": {
    "scrolled": true
   },
   "outputs": [
    {
     "data": {
      "text/html": [
       "<table class=\"dataframe\">\n",
       "<caption>A data.frame: 6 × 19</caption>\n",
       "<thead>\n",
       "\t<tr><th></th><th scope=col>stroke</th><th scope=col>age</th><th scope=col>hypertension</th><th scope=col>heart_disease</th><th scope=col>ever_married</th><th scope=col>avg_glucose_level</th><th scope=col>bmi</th><th scope=col>work_type_children</th><th scope=col>work_type_Govt_job</th><th scope=col>work_type_Never_worked</th><th scope=col>work_type_Private</th><th scope=col>work_type_Self-employed</th><th scope=col>Residence_type_Rural</th><th scope=col>Residence_type_Urban</th><th scope=col>smoking_status_formerly smoked</th><th scope=col>smoking_status_never smoked</th><th scope=col>smoking_status_smokes</th><th scope=col>gender_Female</th><th scope=col>gender_Male</th></tr>\n",
       "\t<tr><th></th><th scope=col>&lt;int&gt;</th><th scope=col>&lt;dbl&gt;</th><th scope=col>&lt;int&gt;</th><th scope=col>&lt;int&gt;</th><th scope=col>&lt;dbl&gt;</th><th scope=col>&lt;dbl&gt;</th><th scope=col>&lt;dbl&gt;</th><th scope=col>&lt;int&gt;</th><th scope=col>&lt;int&gt;</th><th scope=col>&lt;int&gt;</th><th scope=col>&lt;int&gt;</th><th scope=col>&lt;int&gt;</th><th scope=col>&lt;int&gt;</th><th scope=col>&lt;int&gt;</th><th scope=col>&lt;int&gt;</th><th scope=col>&lt;int&gt;</th><th scope=col>&lt;int&gt;</th><th scope=col>&lt;int&gt;</th><th scope=col>&lt;int&gt;</th></tr>\n",
       "</thead>\n",
       "<tbody>\n",
       "\t<tr><th scope=row>1</th><td>1</td><td>67</td><td>0</td><td>1</td><td>1</td><td>228.69</td><td>36.6</td><td>0</td><td>0</td><td>0</td><td>1</td><td>0</td><td>0</td><td>1</td><td>1</td><td>0</td><td>0</td><td>0</td><td>1</td></tr>\n",
       "\t<tr><th scope=row>2</th><td>1</td><td>80</td><td>0</td><td>1</td><td>1</td><td>105.92</td><td>32.5</td><td>0</td><td>0</td><td>0</td><td>1</td><td>0</td><td>1</td><td>0</td><td>0</td><td>1</td><td>0</td><td>0</td><td>1</td></tr>\n",
       "\t<tr><th scope=row>3</th><td>1</td><td>49</td><td>0</td><td>0</td><td>1</td><td>171.23</td><td>34.4</td><td>0</td><td>0</td><td>0</td><td>1</td><td>0</td><td>0</td><td>1</td><td>0</td><td>0</td><td>1</td><td>1</td><td>0</td></tr>\n",
       "\t<tr><th scope=row>4</th><td>1</td><td>79</td><td>1</td><td>0</td><td>1</td><td>174.12</td><td>24.0</td><td>0</td><td>0</td><td>0</td><td>0</td><td>1</td><td>1</td><td>0</td><td>0</td><td>1</td><td>0</td><td>1</td><td>0</td></tr>\n",
       "\t<tr><th scope=row>5</th><td>1</td><td>81</td><td>0</td><td>0</td><td>1</td><td>186.21</td><td>29.0</td><td>0</td><td>0</td><td>0</td><td>1</td><td>0</td><td>0</td><td>1</td><td>1</td><td>0</td><td>0</td><td>0</td><td>1</td></tr>\n",
       "\t<tr><th scope=row>6</th><td>1</td><td>74</td><td>1</td><td>1</td><td>1</td><td> 70.09</td><td>27.4</td><td>0</td><td>0</td><td>0</td><td>1</td><td>0</td><td>1</td><td>0</td><td>0</td><td>1</td><td>0</td><td>0</td><td>1</td></tr>\n",
       "</tbody>\n",
       "</table>\n"
      ],
      "text/latex": [
       "A data.frame: 6 × 19\n",
       "\\begin{tabular}{r|lllllllllllllllllll}\n",
       "  & stroke & age & hypertension & heart\\_disease & ever\\_married & avg\\_glucose\\_level & bmi & work\\_type\\_children & work\\_type\\_Govt\\_job & work\\_type\\_Never\\_worked & work\\_type\\_Private & work\\_type\\_Self-employed & Residence\\_type\\_Rural & Residence\\_type\\_Urban & smoking\\_status\\_formerly smoked & smoking\\_status\\_never smoked & smoking\\_status\\_smokes & gender\\_Female & gender\\_Male\\\\\n",
       "  & <int> & <dbl> & <int> & <int> & <dbl> & <dbl> & <dbl> & <int> & <int> & <int> & <int> & <int> & <int> & <int> & <int> & <int> & <int> & <int> & <int>\\\\\n",
       "\\hline\n",
       "\t1 & 1 & 67 & 0 & 1 & 1 & 228.69 & 36.6 & 0 & 0 & 0 & 1 & 0 & 0 & 1 & 1 & 0 & 0 & 0 & 1\\\\\n",
       "\t2 & 1 & 80 & 0 & 1 & 1 & 105.92 & 32.5 & 0 & 0 & 0 & 1 & 0 & 1 & 0 & 0 & 1 & 0 & 0 & 1\\\\\n",
       "\t3 & 1 & 49 & 0 & 0 & 1 & 171.23 & 34.4 & 0 & 0 & 0 & 1 & 0 & 0 & 1 & 0 & 0 & 1 & 1 & 0\\\\\n",
       "\t4 & 1 & 79 & 1 & 0 & 1 & 174.12 & 24.0 & 0 & 0 & 0 & 0 & 1 & 1 & 0 & 0 & 1 & 0 & 1 & 0\\\\\n",
       "\t5 & 1 & 81 & 0 & 0 & 1 & 186.21 & 29.0 & 0 & 0 & 0 & 1 & 0 & 0 & 1 & 1 & 0 & 0 & 0 & 1\\\\\n",
       "\t6 & 1 & 74 & 1 & 1 & 1 &  70.09 & 27.4 & 0 & 0 & 0 & 1 & 0 & 1 & 0 & 0 & 1 & 0 & 0 & 1\\\\\n",
       "\\end{tabular}\n"
      ],
      "text/markdown": [
       "\n",
       "A data.frame: 6 × 19\n",
       "\n",
       "| <!--/--> | stroke &lt;int&gt; | age &lt;dbl&gt; | hypertension &lt;int&gt; | heart_disease &lt;int&gt; | ever_married &lt;dbl&gt; | avg_glucose_level &lt;dbl&gt; | bmi &lt;dbl&gt; | work_type_children &lt;int&gt; | work_type_Govt_job &lt;int&gt; | work_type_Never_worked &lt;int&gt; | work_type_Private &lt;int&gt; | work_type_Self-employed &lt;int&gt; | Residence_type_Rural &lt;int&gt; | Residence_type_Urban &lt;int&gt; | smoking_status_formerly smoked &lt;int&gt; | smoking_status_never smoked &lt;int&gt; | smoking_status_smokes &lt;int&gt; | gender_Female &lt;int&gt; | gender_Male &lt;int&gt; |\n",
       "|---|---|---|---|---|---|---|---|---|---|---|---|---|---|---|---|---|---|---|---|\n",
       "| 1 | 1 | 67 | 0 | 1 | 1 | 228.69 | 36.6 | 0 | 0 | 0 | 1 | 0 | 0 | 1 | 1 | 0 | 0 | 0 | 1 |\n",
       "| 2 | 1 | 80 | 0 | 1 | 1 | 105.92 | 32.5 | 0 | 0 | 0 | 1 | 0 | 1 | 0 | 0 | 1 | 0 | 0 | 1 |\n",
       "| 3 | 1 | 49 | 0 | 0 | 1 | 171.23 | 34.4 | 0 | 0 | 0 | 1 | 0 | 0 | 1 | 0 | 0 | 1 | 1 | 0 |\n",
       "| 4 | 1 | 79 | 1 | 0 | 1 | 174.12 | 24.0 | 0 | 0 | 0 | 0 | 1 | 1 | 0 | 0 | 1 | 0 | 1 | 0 |\n",
       "| 5 | 1 | 81 | 0 | 0 | 1 | 186.21 | 29.0 | 0 | 0 | 0 | 1 | 0 | 0 | 1 | 1 | 0 | 0 | 0 | 1 |\n",
       "| 6 | 1 | 74 | 1 | 1 | 1 |  70.09 | 27.4 | 0 | 0 | 0 | 1 | 0 | 1 | 0 | 0 | 1 | 0 | 0 | 1 |\n",
       "\n"
      ],
      "text/plain": [
       "  stroke age hypertension heart_disease ever_married avg_glucose_level bmi \n",
       "1 1      67  0            1             1            228.69            36.6\n",
       "2 1      80  0            1             1            105.92            32.5\n",
       "3 1      49  0            0             1            171.23            34.4\n",
       "4 1      79  1            0             1            174.12            24.0\n",
       "5 1      81  0            0             1            186.21            29.0\n",
       "6 1      74  1            1             1             70.09            27.4\n",
       "  work_type_children work_type_Govt_job work_type_Never_worked\n",
       "1 0                  0                  0                     \n",
       "2 0                  0                  0                     \n",
       "3 0                  0                  0                     \n",
       "4 0                  0                  0                     \n",
       "5 0                  0                  0                     \n",
       "6 0                  0                  0                     \n",
       "  work_type_Private work_type_Self-employed Residence_type_Rural\n",
       "1 1                 0                       0                   \n",
       "2 1                 0                       1                   \n",
       "3 1                 0                       0                   \n",
       "4 0                 1                       1                   \n",
       "5 1                 0                       0                   \n",
       "6 1                 0                       1                   \n",
       "  Residence_type_Urban smoking_status_formerly smoked\n",
       "1 1                    1                             \n",
       "2 0                    0                             \n",
       "3 1                    0                             \n",
       "4 0                    0                             \n",
       "5 1                    1                             \n",
       "6 0                    0                             \n",
       "  smoking_status_never smoked smoking_status_smokes gender_Female gender_Male\n",
       "1 0                           0                     0             1          \n",
       "2 1                           0                     0             1          \n",
       "3 0                           1                     1             0          \n",
       "4 1                           0                     1             0          \n",
       "5 0                           0                     0             1          \n",
       "6 1                           0                     0             1          "
      ]
     },
     "metadata": {},
     "output_type": "display_data"
    }
   ],
   "source": [
    "head(stroke2)"
   ]
  },
  {
   "cell_type": "code",
   "execution_count": 59,
   "id": "286cb579",
   "metadata": {},
   "outputs": [],
   "source": [
    "stroke_subset <- as.data.frame(lapply(stroke2[,2:19], normalize))"
   ]
  },
  {
   "cell_type": "code",
   "execution_count": 60,
   "id": "fc3e77cf",
   "metadata": {},
   "outputs": [
    {
     "data": {
      "text/html": [
       "<table class=\"dataframe\">\n",
       "<caption>A data.frame: 6 × 18</caption>\n",
       "<thead>\n",
       "\t<tr><th></th><th scope=col>age</th><th scope=col>hypertension</th><th scope=col>heart_disease</th><th scope=col>ever_married</th><th scope=col>avg_glucose_level</th><th scope=col>bmi</th><th scope=col>work_type_children</th><th scope=col>work_type_Govt_job</th><th scope=col>work_type_Never_worked</th><th scope=col>work_type_Private</th><th scope=col>work_type_Self.employed</th><th scope=col>Residence_type_Rural</th><th scope=col>Residence_type_Urban</th><th scope=col>smoking_status_formerly.smoked</th><th scope=col>smoking_status_never.smoked</th><th scope=col>smoking_status_smokes</th><th scope=col>gender_Female</th><th scope=col>gender_Male</th></tr>\n",
       "\t<tr><th></th><th scope=col>&lt;dbl&gt;</th><th scope=col>&lt;dbl&gt;</th><th scope=col>&lt;dbl&gt;</th><th scope=col>&lt;dbl&gt;</th><th scope=col>&lt;dbl&gt;</th><th scope=col>&lt;dbl&gt;</th><th scope=col>&lt;dbl&gt;</th><th scope=col>&lt;dbl&gt;</th><th scope=col>&lt;dbl&gt;</th><th scope=col>&lt;dbl&gt;</th><th scope=col>&lt;dbl&gt;</th><th scope=col>&lt;dbl&gt;</th><th scope=col>&lt;dbl&gt;</th><th scope=col>&lt;dbl&gt;</th><th scope=col>&lt;dbl&gt;</th><th scope=col>&lt;dbl&gt;</th><th scope=col>&lt;dbl&gt;</th><th scope=col>&lt;dbl&gt;</th></tr>\n",
       "</thead>\n",
       "<tbody>\n",
       "\t<tr><th scope=row>1</th><td>0.7916667</td><td>0</td><td>1</td><td>1</td><td>0.80126489</td><td>0.3118012</td><td>0</td><td>0</td><td>0</td><td>1</td><td>0</td><td>0</td><td>1</td><td>1</td><td>0</td><td>0</td><td>0</td><td>1</td></tr>\n",
       "\t<tr><th scope=row>2</th><td>0.9722222</td><td>0</td><td>1</td><td>1</td><td>0.23451205</td><td>0.2608696</td><td>0</td><td>0</td><td>0</td><td>1</td><td>0</td><td>1</td><td>0</td><td>0</td><td>1</td><td>0</td><td>0</td><td>1</td></tr>\n",
       "\t<tr><th scope=row>3</th><td>0.5416667</td><td>0</td><td>0</td><td>1</td><td>0.53600776</td><td>0.2844720</td><td>0</td><td>0</td><td>0</td><td>1</td><td>0</td><td>0</td><td>1</td><td>0</td><td>0</td><td>1</td><td>1</td><td>0</td></tr>\n",
       "\t<tr><th scope=row>4</th><td>0.9583333</td><td>1</td><td>0</td><td>1</td><td>0.54934909</td><td>0.1552795</td><td>0</td><td>0</td><td>0</td><td>0</td><td>1</td><td>1</td><td>0</td><td>0</td><td>1</td><td>0</td><td>1</td><td>0</td></tr>\n",
       "\t<tr><th scope=row>5</th><td>0.9861111</td><td>0</td><td>0</td><td>1</td><td>0.60516111</td><td>0.2173913</td><td>0</td><td>0</td><td>0</td><td>1</td><td>0</td><td>0</td><td>1</td><td>1</td><td>0</td><td>0</td><td>0</td><td>1</td></tr>\n",
       "\t<tr><th scope=row>6</th><td>0.8888889</td><td>1</td><td>1</td><td>1</td><td>0.06910719</td><td>0.1975155</td><td>0</td><td>0</td><td>0</td><td>1</td><td>0</td><td>1</td><td>0</td><td>0</td><td>1</td><td>0</td><td>0</td><td>1</td></tr>\n",
       "</tbody>\n",
       "</table>\n"
      ],
      "text/latex": [
       "A data.frame: 6 × 18\n",
       "\\begin{tabular}{r|llllllllllllllllll}\n",
       "  & age & hypertension & heart\\_disease & ever\\_married & avg\\_glucose\\_level & bmi & work\\_type\\_children & work\\_type\\_Govt\\_job & work\\_type\\_Never\\_worked & work\\_type\\_Private & work\\_type\\_Self.employed & Residence\\_type\\_Rural & Residence\\_type\\_Urban & smoking\\_status\\_formerly.smoked & smoking\\_status\\_never.smoked & smoking\\_status\\_smokes & gender\\_Female & gender\\_Male\\\\\n",
       "  & <dbl> & <dbl> & <dbl> & <dbl> & <dbl> & <dbl> & <dbl> & <dbl> & <dbl> & <dbl> & <dbl> & <dbl> & <dbl> & <dbl> & <dbl> & <dbl> & <dbl> & <dbl>\\\\\n",
       "\\hline\n",
       "\t1 & 0.7916667 & 0 & 1 & 1 & 0.80126489 & 0.3118012 & 0 & 0 & 0 & 1 & 0 & 0 & 1 & 1 & 0 & 0 & 0 & 1\\\\\n",
       "\t2 & 0.9722222 & 0 & 1 & 1 & 0.23451205 & 0.2608696 & 0 & 0 & 0 & 1 & 0 & 1 & 0 & 0 & 1 & 0 & 0 & 1\\\\\n",
       "\t3 & 0.5416667 & 0 & 0 & 1 & 0.53600776 & 0.2844720 & 0 & 0 & 0 & 1 & 0 & 0 & 1 & 0 & 0 & 1 & 1 & 0\\\\\n",
       "\t4 & 0.9583333 & 1 & 0 & 1 & 0.54934909 & 0.1552795 & 0 & 0 & 0 & 0 & 1 & 1 & 0 & 0 & 1 & 0 & 1 & 0\\\\\n",
       "\t5 & 0.9861111 & 0 & 0 & 1 & 0.60516111 & 0.2173913 & 0 & 0 & 0 & 1 & 0 & 0 & 1 & 1 & 0 & 0 & 0 & 1\\\\\n",
       "\t6 & 0.8888889 & 1 & 1 & 1 & 0.06910719 & 0.1975155 & 0 & 0 & 0 & 1 & 0 & 1 & 0 & 0 & 1 & 0 & 0 & 1\\\\\n",
       "\\end{tabular}\n"
      ],
      "text/markdown": [
       "\n",
       "A data.frame: 6 × 18\n",
       "\n",
       "| <!--/--> | age &lt;dbl&gt; | hypertension &lt;dbl&gt; | heart_disease &lt;dbl&gt; | ever_married &lt;dbl&gt; | avg_glucose_level &lt;dbl&gt; | bmi &lt;dbl&gt; | work_type_children &lt;dbl&gt; | work_type_Govt_job &lt;dbl&gt; | work_type_Never_worked &lt;dbl&gt; | work_type_Private &lt;dbl&gt; | work_type_Self.employed &lt;dbl&gt; | Residence_type_Rural &lt;dbl&gt; | Residence_type_Urban &lt;dbl&gt; | smoking_status_formerly.smoked &lt;dbl&gt; | smoking_status_never.smoked &lt;dbl&gt; | smoking_status_smokes &lt;dbl&gt; | gender_Female &lt;dbl&gt; | gender_Male &lt;dbl&gt; |\n",
       "|---|---|---|---|---|---|---|---|---|---|---|---|---|---|---|---|---|---|---|\n",
       "| 1 | 0.7916667 | 0 | 1 | 1 | 0.80126489 | 0.3118012 | 0 | 0 | 0 | 1 | 0 | 0 | 1 | 1 | 0 | 0 | 0 | 1 |\n",
       "| 2 | 0.9722222 | 0 | 1 | 1 | 0.23451205 | 0.2608696 | 0 | 0 | 0 | 1 | 0 | 1 | 0 | 0 | 1 | 0 | 0 | 1 |\n",
       "| 3 | 0.5416667 | 0 | 0 | 1 | 0.53600776 | 0.2844720 | 0 | 0 | 0 | 1 | 0 | 0 | 1 | 0 | 0 | 1 | 1 | 0 |\n",
       "| 4 | 0.9583333 | 1 | 0 | 1 | 0.54934909 | 0.1552795 | 0 | 0 | 0 | 0 | 1 | 1 | 0 | 0 | 1 | 0 | 1 | 0 |\n",
       "| 5 | 0.9861111 | 0 | 0 | 1 | 0.60516111 | 0.2173913 | 0 | 0 | 0 | 1 | 0 | 0 | 1 | 1 | 0 | 0 | 0 | 1 |\n",
       "| 6 | 0.8888889 | 1 | 1 | 1 | 0.06910719 | 0.1975155 | 0 | 0 | 0 | 1 | 0 | 1 | 0 | 0 | 1 | 0 | 0 | 1 |\n",
       "\n"
      ],
      "text/plain": [
       "  age       hypertension heart_disease ever_married avg_glucose_level bmi      \n",
       "1 0.7916667 0            1             1            0.80126489        0.3118012\n",
       "2 0.9722222 0            1             1            0.23451205        0.2608696\n",
       "3 0.5416667 0            0             1            0.53600776        0.2844720\n",
       "4 0.9583333 1            0             1            0.54934909        0.1552795\n",
       "5 0.9861111 0            0             1            0.60516111        0.2173913\n",
       "6 0.8888889 1            1             1            0.06910719        0.1975155\n",
       "  work_type_children work_type_Govt_job work_type_Never_worked\n",
       "1 0                  0                  0                     \n",
       "2 0                  0                  0                     \n",
       "3 0                  0                  0                     \n",
       "4 0                  0                  0                     \n",
       "5 0                  0                  0                     \n",
       "6 0                  0                  0                     \n",
       "  work_type_Private work_type_Self.employed Residence_type_Rural\n",
       "1 1                 0                       0                   \n",
       "2 1                 0                       1                   \n",
       "3 1                 0                       0                   \n",
       "4 0                 1                       1                   \n",
       "5 1                 0                       0                   \n",
       "6 1                 0                       1                   \n",
       "  Residence_type_Urban smoking_status_formerly.smoked\n",
       "1 1                    1                             \n",
       "2 0                    0                             \n",
       "3 1                    0                             \n",
       "4 0                    0                             \n",
       "5 1                    1                             \n",
       "6 0                    0                             \n",
       "  smoking_status_never.smoked smoking_status_smokes gender_Female gender_Male\n",
       "1 0                           0                     0             1          \n",
       "2 1                           0                     0             1          \n",
       "3 0                           1                     1             0          \n",
       "4 1                           0                     1             0          \n",
       "5 0                           0                     0             1          \n",
       "6 1                           0                     0             1          "
      ]
     },
     "metadata": {},
     "output_type": "display_data"
    }
   ],
   "source": [
    "head(stroke_subset)"
   ]
  },
  {
   "cell_type": "code",
   "execution_count": 61,
   "id": "4344d369",
   "metadata": {},
   "outputs": [],
   "source": [
    "set.seed(123)\n",
    "data <- sample(1:nrow(stroke_subset),size=nrow(stroke_subset)*0.7,replace = FALSE) #random selection of 70% data.\n",
    "stroke_train <- stroke_subset[data,] # 70% training data\n",
    "stroke_test <- stroke_subset[-data,] # remaining 30% test data"
   ]
  },
  {
   "cell_type": "code",
   "execution_count": 62,
   "id": "7fc3a1e7",
   "metadata": {},
   "outputs": [],
   "source": [
    "#Creating seperate dataframe for 'Creditability' feature which is our target.\n",
    "train_labels <- stroke_subset[data,1]\n",
    "test_labels <- stroke_subset[-data,1]"
   ]
  },
  {
   "cell_type": "code",
   "execution_count": 63,
   "id": "59e10df0",
   "metadata": {},
   "outputs": [
    {
     "data": {
      "text/html": [
       "48.9591666595746"
      ],
      "text/latex": [
       "48.9591666595746"
      ],
      "text/markdown": [
       "48.9591666595746"
      ],
      "text/plain": [
       "[1] 48.95917"
      ]
     },
     "metadata": {},
     "output_type": "display_data"
    }
   ],
   "source": [
    "sqrt_train_labels <- sqrt(NROW(train_labels))\n",
    "sqrt_train_labels"
   ]
  },
  {
   "cell_type": "code",
   "execution_count": 65,
   "id": "3ec1dcb9",
   "metadata": {},
   "outputs": [],
   "source": [
    "knn_sqrt_48 <- as.numeric(knn(train=stroke_train, test=stroke_test, cl=train_labels, k=48))\n",
    "knn_sqrt_49 <- as.numeric(knn(train=stroke_train, test=stroke_test, cl=train_labels, k=49))"
   ]
  },
  {
   "cell_type": "code",
   "execution_count": 66,
   "id": "83cc71bd",
   "metadata": {},
   "outputs": [
    {
     "data": {
      "text/plain": [
       "           test_labels\n",
       "knn_sqrt_49 0 0.0138888888888889 0.0277777777777778 0.0416666666666667\n",
       "         2  1                  0                  1                  1\n",
       "         3  2                  2                  1                  3\n",
       "         5  0                  0                  1                  0\n",
       "         6  0                  0                  0                  0\n",
       "         7  0                  0                  0                  0\n",
       "         9  0                  0                  1                  0\n",
       "         10 0                  0                  0                  0\n",
       "         11 0                  0                  0                  0\n",
       "         12 0                  0                  0                  1\n",
       "         13 0                  0                  0                  0\n",
       "         14 0                  0                  0                  0\n",
       "         15 0                  0                  0                  0\n",
       "         16 0                  0                  0                  0\n",
       "         17 0                  0                  0                  0\n",
       "         18 0                  0                  0                  0\n",
       "         19 0                  0                  0                  0\n",
       "         20 0                  0                  0                  0\n",
       "         21 0                  0                  0                  0\n",
       "         22 0                  0                  0                  0\n",
       "         23 0                  0                  0                  0\n",
       "         24 0                  0                  0                  0\n",
       "         25 0                  0                  0                  0\n",
       "         26 0                  0                  0                  0\n",
       "         27 0                  0                  0                  0\n",
       "         28 0                  0                  0                  0\n",
       "         29 0                  0                  0                  0\n",
       "         30 0                  0                  0                  0\n",
       "         31 0                  0                  0                  0\n",
       "         32 0                  0                  0                  0\n",
       "         33 0                  0                  0                  0\n",
       "         34 0                  0                  0                  0\n",
       "         35 0                  0                  0                  0\n",
       "         36 0                  0                  0                  0\n",
       "         37 0                  0                  0                  0\n",
       "         38 0                  0                  0                  0\n",
       "         39 0                  0                  0                  0\n",
       "         40 0                  0                  0                  0\n",
       "         41 0                  0                  0                  0\n",
       "         42 0                  0                  0                  0\n",
       "         43 0                  0                  0                  0\n",
       "         44 0                  0                  0                  0\n",
       "         45 0                  0                  0                  0\n",
       "         46 0                  0                  0                  0\n",
       "         47 0                  0                  0                  0\n",
       "         48 0                  0                  0                  0\n",
       "         49 0                  0                  0                  0\n",
       "         50 0                  0                  0                  0\n",
       "         51 0                  0                  0                  0\n",
       "         52 0                  0                  0                  0\n",
       "         53 0                  0                  0                  0\n",
       "         54 0                  0                  0                  0\n",
       "         55 0                  0                  0                  0\n",
       "         56 0                  0                  0                  0\n",
       "         57 0                  0                  0                  0\n",
       "         58 0                  0                  0                  0\n",
       "         59 0                  0                  0                  0\n",
       "         60 0                  0                  0                  0\n",
       "         61 0                  0                  0                  0\n",
       "         62 0                  0                  0                  0\n",
       "         63 0                  0                  0                  0\n",
       "         64 0                  0                  0                  0\n",
       "         65 0                  0                  0                  0\n",
       "         66 0                  0                  0                  0\n",
       "         67 0                  0                  0                  0\n",
       "         69 0                  0                  0                  0\n",
       "         70 0                  0                  0                  0\n",
       "         71 0                  0                  0                  0\n",
       "         72 0                  0                  0                  0\n",
       "         73 0                  0                  0                  0\n",
       "           test_labels\n",
       "knn_sqrt_49 0.0555555555555556 0.0694444444444444 0.0833333333333333\n",
       "         2                   0                  0                  0\n",
       "         3                   1                  0                  0\n",
       "         5                   0                  0                  1\n",
       "         6                   0                  0                  0\n",
       "         7                   0                  0                  0\n",
       "         9                   0                  0                  2\n",
       "         10                  1                  0                  0\n",
       "         11                  1                  1                  1\n",
       "         12                  0                  1                  2\n",
       "         13                  0                  0                  0\n",
       "         14                  0                  1                  0\n",
       "         15                  0                  0                  0\n",
       "         16                  0                  0                  0\n",
       "         17                  0                  0                  0\n",
       "         18                  0                  1                  1\n",
       "         19                  0                  0                  0\n",
       "         20                  0                  0                  0\n",
       "         21                  0                  0                  0\n",
       "         22                  0                  0                  0\n",
       "         23                  0                  0                  0\n",
       "         24                  0                  0                  0\n",
       "         25                  0                  0                  0\n",
       "         26                  0                  0                  0\n",
       "         27                  0                  0                  0\n",
       "         28                  0                  0                  0\n",
       "         29                  0                  0                  0\n",
       "         30                  0                  0                  0\n",
       "         31                  1                  0                  0\n",
       "         32                  0                  0                  0\n",
       "         33                  0                  0                  0\n",
       "         34                  0                  0                  0\n",
       "         35                  0                  0                  0\n",
       "         36                  0                  0                  0\n",
       "         37                  0                  0                  0\n",
       "         38                  0                  0                  0\n",
       "         39                  0                  0                  0\n",
       "         40                  0                  0                  0\n",
       "         41                  0                  0                  0\n",
       "         42                  0                  0                  0\n",
       "         43                  0                  0                  0\n",
       "         44                  1                  0                  0\n",
       "         45                  0                  0                  0\n",
       "         46                  0                  0                  0\n",
       "         47                  0                  0                  0\n",
       "         48                  0                  0                  0\n",
       "         49                  0                  0                  0\n",
       "         50                  0                  0                  0\n",
       "         51                  0                  0                  0\n",
       "         52                  0                  0                  0\n",
       "         53                  0                  0                  0\n",
       "         54                  0                  0                  0\n",
       "         55                  0                  0                  0\n",
       "         56                  0                  0                  0\n",
       "         57                  0                  0                  0\n",
       "         58                  0                  0                  0\n",
       "         59                  0                  0                  0\n",
       "         60                  0                  0                  0\n",
       "         61                  0                  0                  0\n",
       "         62                  0                  0                  0\n",
       "         63                  0                  0                  0\n",
       "         64                  0                  0                  0\n",
       "         65                  0                  1                  0\n",
       "         66                  0                  0                  0\n",
       "         67                  0                  0                  0\n",
       "         69                  0                  0                  0\n",
       "         70                  0                  0                  0\n",
       "         71                  0                  0                  0\n",
       "         72                  0                  0                  0\n",
       "         73                  0                  0                  0\n",
       "           test_labels\n",
       "knn_sqrt_49 0.0972222222222222 0.111111111111111 0.125 0.138888888888889\n",
       "         2                   0                 0     0                 0\n",
       "         3                   0                 0     0                 0\n",
       "         5                   0                 0     0                 0\n",
       "         6                   1                 0     0                 0\n",
       "         7                   1                 0     0                 0\n",
       "         9                   1                 1     0                 2\n",
       "         10                  0                 0     0                 0\n",
       "         11                  3                 1     1                 3\n",
       "         12                  2                 1     0                 1\n",
       "         13                  0                 0     0                 0\n",
       "         14                  0                 0     0                 0\n",
       "         15                  0                 0     0                 0\n",
       "         16                  0                 0     0                 0\n",
       "         17                  1                 0     0                 0\n",
       "         18                  3                 2     2                 3\n",
       "         19                  0                 0     1                 0\n",
       "         20                  0                 0     0                 0\n",
       "         21                  0                 1     0                 0\n",
       "         22                  0                 0     1                 1\n",
       "         23                  1                 0     0                 0\n",
       "         24                  0                 0     0                 0\n",
       "         25                  0                 0     0                 0\n",
       "         26                  0                 0     0                 0\n",
       "         27                  0                 0     0                 0\n",
       "         28                  0                 0     0                 0\n",
       "         29                  0                 0     0                 0\n",
       "         30                  0                 0     0                 0\n",
       "         31                  1                 0     0                 0\n",
       "         32                  0                 0     0                 1\n",
       "         33                  0                 0     0                 0\n",
       "         34                  0                 0     0                 0\n",
       "         35                  1                 0     0                 1\n",
       "         36                  0                 1     0                 0\n",
       "         37                  0                 0     0                 0\n",
       "         38                  0                 0     0                 1\n",
       "         39                  0                 0     0                 0\n",
       "         40                  0                 0     0                 0\n",
       "         41                  0                 0     0                 0\n",
       "         42                  0                 0     0                 1\n",
       "         43                  0                 0     0                 0\n",
       "         44                  0                 0     0                 0\n",
       "         45                  0                 0     0                 1\n",
       "         46                  0                 0     0                 0\n",
       "         47                  0                 0     0                 0\n",
       "         48                  0                 1     0                 0\n",
       "         49                  0                 0     0                 0\n",
       "         50                  0                 0     0                 0\n",
       "         51                  0                 0     0                 0\n",
       "         52                  0                 0     0                 0\n",
       "         53                  0                 0     0                 0\n",
       "         54                  0                 0     0                 0\n",
       "         55                  0                 0     0                 0\n",
       "         56                  0                 0     0                 0\n",
       "         57                  0                 0     0                 0\n",
       "         58                  0                 0     1                 0\n",
       "         59                  0                 0     0                 0\n",
       "         60                  0                 0     0                 0\n",
       "         61                  0                 0     0                 0\n",
       "         62                  0                 0     0                 0\n",
       "         63                  0                 0     0                 0\n",
       "         64                  0                 0     0                 0\n",
       "         65                  0                 0     1                 0\n",
       "         66                  0                 0     0                 0\n",
       "         67                  0                 0     0                 0\n",
       "         69                  0                 0     0                 0\n",
       "         70                  0                 0     0                 0\n",
       "         71                  0                 0     0                 0\n",
       "         72                  0                 0     0                 0\n",
       "         73                  0                 0     0                 0\n",
       "           test_labels\n",
       "knn_sqrt_49 0.152777777777778 0.166666666666667 0.180555555555556\n",
       "         2                  0                 0                 0\n",
       "         3                  0                 0                 0\n",
       "         5                  0                 0                 0\n",
       "         6                  0                 0                 0\n",
       "         7                  0                 0                 0\n",
       "         9                  0                 0                 0\n",
       "         10                 1                 0                 0\n",
       "         11                 1                 4                 7\n",
       "         12                 1                 4                 1\n",
       "         13                 0                 0                 0\n",
       "         14                 0                 0                 0\n",
       "         15                 0                 0                 0\n",
       "         16                 0                 0                 0\n",
       "         17                 1                 0                 4\n",
       "         18                 2                 1                 4\n",
       "         19                 0                 1                 0\n",
       "         20                 0                 0                 0\n",
       "         21                 0                 0                 0\n",
       "         22                 0                 3                 0\n",
       "         23                 0                 0                 1\n",
       "         24                 0                 0                 0\n",
       "         25                 0                 0                 0\n",
       "         26                 0                 0                 0\n",
       "         27                 0                 0                 0\n",
       "         28                 0                 0                 0\n",
       "         29                 0                 0                 0\n",
       "         30                 0                 0                 0\n",
       "         31                 0                 0                 1\n",
       "         32                 0                 0                 0\n",
       "         33                 0                 0                 0\n",
       "         34                 0                 0                 1\n",
       "         35                 0                 1                 0\n",
       "         36                 0                 0                 2\n",
       "         37                 0                 0                 0\n",
       "         38                 0                 0                 0\n",
       "         39                 0                 0                 0\n",
       "         40                 0                 0                 0\n",
       "         41                 0                 0                 0\n",
       "         42                 1                 0                 0\n",
       "         43                 0                 0                 0\n",
       "         44                 0                 0                 0\n",
       "         45                 0                 0                 0\n",
       "         46                 1                 0                 2\n",
       "         47                 0                 0                 0\n",
       "         48                 0                 0                 0\n",
       "         49                 0                 0                 0\n",
       "         50                 0                 0                 0\n",
       "         51                 0                 0                 0\n",
       "         52                 0                 0                 0\n",
       "         53                 0                 0                 0\n",
       "         54                 0                 0                 0\n",
       "         55                 0                 0                 0\n",
       "         56                 0                 0                 0\n",
       "         57                 0                 0                 0\n",
       "         58                 0                 0                 0\n",
       "         59                 0                 0                 0\n",
       "         60                 0                 0                 0\n",
       "         61                 0                 0                 0\n",
       "         62                 0                 0                 0\n",
       "         63                 0                 0                 0\n",
       "         64                 0                 0                 0\n",
       "         65                 0                 0                 0\n",
       "         66                 0                 0                 0\n",
       "         67                 0                 0                 0\n",
       "         69                 0                 0                 0\n",
       "         70                 0                 0                 0\n",
       "         71                 0                 0                 0\n",
       "         72                 0                 0                 0\n",
       "         73                 0                 0                 0\n",
       "           test_labels\n",
       "knn_sqrt_49 0.194444444444444 0.208333333333333 0.222222222222222\n",
       "         2                  0                 0                 0\n",
       "         3                  0                 0                 0\n",
       "         5                  0                 0                 0\n",
       "         6                  0                 0                 0\n",
       "         7                  0                 0                 0\n",
       "         9                  0                 0                 0\n",
       "         10                 0                 0                 0\n",
       "         11                 5                 1                 0\n",
       "         12                 0                 1                 0\n",
       "         13                 0                 0                 0\n",
       "         14                 1                 0                 0\n",
       "         15                 0                 0                 0\n",
       "         16                 0                 0                 0\n",
       "         17                 1                 2                 2\n",
       "         18                 0                 0                 1\n",
       "         19                 0                 1                 0\n",
       "         20                 0                 0                 0\n",
       "         21                 1                 0                 0\n",
       "         22                 2                 1                 0\n",
       "         23                 0                 2                 0\n",
       "         24                 0                 0                 0\n",
       "         25                 0                 0                 0\n",
       "         26                 0                 0                 0\n",
       "         27                 0                 0                 0\n",
       "         28                 0                 0                 0\n",
       "         29                 0                 0                 0\n",
       "         30                 0                 0                 0\n",
       "         31                 0                 0                 2\n",
       "         32                 0                 0                 0\n",
       "         33                 0                 0                 1\n",
       "         34                 2                 0                 0\n",
       "         35                 0                 0                 1\n",
       "         36                 1                 0                 0\n",
       "         37                 0                 0                 0\n",
       "         38                 0                 0                 1\n",
       "         39                 0                 0                 0\n",
       "         40                 0                 0                 0\n",
       "         41                 0                 0                 0\n",
       "         42                 0                 0                 0\n",
       "         43                 0                 0                 0\n",
       "         44                 1                 0                 0\n",
       "         45                 0                 0                 0\n",
       "         46                 1                 4                 0\n",
       "         47                 0                 0                 0\n",
       "         48                 0                 0                 0\n",
       "         49                 0                 0                 0\n",
       "         50                 0                 0                 0\n",
       "         51                 0                 0                 0\n",
       "         52                 0                 0                 0\n",
       "         53                 0                 0                 0\n",
       "         54                 0                 1                 0\n",
       "         55                 0                 0                 0\n",
       "         56                 0                 0                 0\n",
       "         57                 0                 0                 0\n",
       "         58                 1                 0                 0\n",
       "         59                 0                 0                 0\n",
       "         60                 1                 0                 0\n",
       "         61                 0                 0                 0\n",
       "         62                 0                 0                 0\n",
       "         63                 0                 0                 0\n",
       "         64                 0                 0                 0\n",
       "         65                 0                 0                 0\n",
       "         66                 0                 0                 0\n",
       "         67                 0                 0                 0\n",
       "         69                 1                 0                 0\n",
       "         70                 0                 0                 0\n",
       "         71                 0                 0                 0\n",
       "         72                 0                 0                 0\n",
       "         73                 0                 0                 0\n",
       "           test_labels\n",
       "knn_sqrt_49 0.236111111111111 0.25 0.263888888888889 0.277777777777778\n",
       "         2                  0    0                 0                 0\n",
       "         3                  0    0                 0                 0\n",
       "         5                  0    0                 0                 0\n",
       "         6                  0    0                 0                 0\n",
       "         7                  0    0                 0                 0\n",
       "         9                  0    0                 0                 1\n",
       "         10                 0    0                 0                 0\n",
       "         11                 0    2                 3                 1\n",
       "         12                 0    0                 0                 0\n",
       "         13                 0    0                 0                 0\n",
       "         14                 0    0                 0                 0\n",
       "         15                 0    0                 0                 0\n",
       "         16                 0    0                 0                 0\n",
       "         17                 0    0                 0                 0\n",
       "         18                 2    1                 1                 0\n",
       "         19                 1    1                 2                 1\n",
       "         20                 0    0                 0                 0\n",
       "         21                 0    0                 2                 1\n",
       "         22                 1    2                 3                 4\n",
       "         23                 0    0                 0                 0\n",
       "         24                 0    0                 0                 0\n",
       "         25                 1    1                 0                 0\n",
       "         26                 0    0                 0                 0\n",
       "         27                 0    1                 0                 0\n",
       "         28                 0    0                 0                 0\n",
       "         29                 0    0                 0                 0\n",
       "         30                 0    0                 0                 0\n",
       "         31                 1    0                 0                 1\n",
       "         32                 1    0                 0                 0\n",
       "         33                 0    0                 0                 0\n",
       "         34                 0    1                 0                 2\n",
       "         35                 0    0                 0                 0\n",
       "         36                 0    0                 0                 0\n",
       "         37                 0    0                 0                 0\n",
       "         38                 1    0                 2                 1\n",
       "         39                 0    0                 0                 0\n",
       "         40                 0    0                 0                 0\n",
       "         41                 0    0                 0                 0\n",
       "         42                 0    0                 0                 0\n",
       "         43                 1    0                 0                 0\n",
       "         44                 0    0                 0                 0\n",
       "         45                 0    0                 0                 0\n",
       "         46                 0    0                 0                 0\n",
       "         47                 0    0                 0                 0\n",
       "         48                 0    0                 2                 0\n",
       "         49                 0    0                 0                 0\n",
       "         50                 0    0                 0                 0\n",
       "         51                 0    0                 0                 0\n",
       "         52                 1    0                 0                 0\n",
       "         53                 0    0                 0                 0\n",
       "         54                 0    0                 0                 0\n",
       "         55                 0    0                 0                 0\n",
       "         56                 0    0                 0                 0\n",
       "         57                 0    0                 0                 0\n",
       "         58                 0    0                 0                 1\n",
       "         59                 0    0                 0                 0\n",
       "         60                 0    0                 0                 0\n",
       "         61                 0    0                 0                 0\n",
       "         62                 0    0                 0                 0\n",
       "         63                 0    0                 0                 0\n",
       "         64                 0    0                 0                 0\n",
       "         65                 0    0                 0                 0\n",
       "         66                 0    0                 0                 0\n",
       "         67                 0    0                 0                 0\n",
       "         69                 0    0                 1                 1\n",
       "         70                 0    0                 0                 0\n",
       "         71                 0    0                 0                 0\n",
       "         72                 0    0                 0                 0\n",
       "         73                 0    0                 0                 0\n",
       "           test_labels\n",
       "knn_sqrt_49 0.291666666666667 0.305555555555556 0.319444444444444\n",
       "         2                  0                 0                 0\n",
       "         3                  0                 0                 0\n",
       "         5                  0                 0                 0\n",
       "         6                  0                 0                 0\n",
       "         7                  0                 0                 0\n",
       "         9                  0                 2                 0\n",
       "         10                 0                 0                 0\n",
       "         11                 1                 1                 0\n",
       "         12                 0                 0                 0\n",
       "         13                 0                 0                 0\n",
       "         14                 0                 0                 0\n",
       "         15                 0                 0                 0\n",
       "         16                 0                 0                 0\n",
       "         17                 0                 0                 0\n",
       "         18                 1                 0                 0\n",
       "         19                 0                 0                 0\n",
       "         20                 0                 1                 0\n",
       "         21                 0                 1                 0\n",
       "         22                 3                 4                 0\n",
       "         23                 0                 0                 0\n",
       "         24                 0                 0                 0\n",
       "         25                 1                 0                 0\n",
       "         26                 0                 0                 0\n",
       "         27                 0                 1                 1\n",
       "         28                 0                 0                 0\n",
       "         29                 0                 0                 2\n",
       "         30                 0                 0                 1\n",
       "         31                 0                 1                 0\n",
       "         32                 1                 0                 0\n",
       "         33                 0                 0                 1\n",
       "         34                 0                 1                 1\n",
       "         35                 0                 2                 2\n",
       "         36                 1                 1                 0\n",
       "         37                 0                 0                 0\n",
       "         38                 2                 0                 1\n",
       "         39                 0                 0                 0\n",
       "         40                 0                 0                 0\n",
       "         41                 0                 0                 0\n",
       "         42                 0                 0                 1\n",
       "         43                 0                 2                 0\n",
       "         44                 0                 1                 1\n",
       "         45                 0                 0                 0\n",
       "         46                 2                 0                 1\n",
       "         47                 0                 0                 0\n",
       "         48                 0                 0                 0\n",
       "         49                 0                 0                 0\n",
       "         50                 1                 0                 0\n",
       "         51                 0                 0                 0\n",
       "         52                 0                 0                 0\n",
       "         53                 0                 0                 0\n",
       "         54                 0                 1                 0\n",
       "         55                 0                 0                 0\n",
       "         56                 0                 0                 0\n",
       "         57                 0                 0                 0\n",
       "         58                 0                 0                 0\n",
       "         59                 0                 0                 0\n",
       "         60                 0                 0                 0\n",
       "         61                 0                 0                 0\n",
       "         62                 0                 0                 0\n",
       "         63                 0                 0                 0\n",
       "         64                 0                 0                 0\n",
       "         65                 0                 0                 0\n",
       "         66                 0                 0                 0\n",
       "         67                 0                 0                 1\n",
       "         69                 1                 0                 1\n",
       "         70                 0                 0                 0\n",
       "         71                 0                 0                 0\n",
       "         72                 0                 0                 0\n",
       "         73                 0                 0                 0\n",
       "           test_labels\n",
       "knn_sqrt_49 0.333333333333333 0.347222222222222 0.361111111111111 0.375\n",
       "         2                  0                 0                 0     0\n",
       "         3                  0                 0                 0     0\n",
       "         5                  0                 0                 0     0\n",
       "         6                  0                 0                 0     0\n",
       "         7                  0                 0                 0     0\n",
       "         9                  0                 0                 0     0\n",
       "         10                 0                 0                 0     0\n",
       "         11                 0                 0                 0     0\n",
       "         12                 0                 0                 0     0\n",
       "         13                 0                 0                 0     0\n",
       "         14                 0                 0                 0     0\n",
       "         15                 0                 0                 0     0\n",
       "         16                 0                 0                 0     0\n",
       "         17                 0                 0                 0     0\n",
       "         18                 0                 1                 0     0\n",
       "         19                 0                 0                 0     0\n",
       "         20                 0                 0                 0     0\n",
       "         21                 0                 0                 0     0\n",
       "         22                 2                 1                 1     3\n",
       "         23                 0                 0                 0     0\n",
       "         24                 2                 0                 0     1\n",
       "         25                 0                 0                 0     0\n",
       "         26                 0                 0                 0     0\n",
       "         27                 0                 1                 0     1\n",
       "         28                 0                 0                 0     0\n",
       "         29                 1                 0                 1     0\n",
       "         30                 1                 0                 0     1\n",
       "         31                 0                 2                 0     0\n",
       "         32                 0                 1                 0     0\n",
       "         33                 1                 0                 0     0\n",
       "         34                 1                 0                 1     1\n",
       "         35                 0                 1                 0     0\n",
       "         36                 3                 0                 0     0\n",
       "         37                 0                 0                 0     0\n",
       "         38                 2                 0                 1     0\n",
       "         39                 0                 0                 0     0\n",
       "         40                 0                 0                 0     0\n",
       "         41                 0                 1                 0     2\n",
       "         42                 0                 0                 0     1\n",
       "         43                 0                 1                 0     0\n",
       "         44                 0                 0                 0     0\n",
       "         45                 2                 0                 0     0\n",
       "         46                 3                 0                 2     1\n",
       "         47                 0                 0                 0     0\n",
       "         48                 0                 0                 2     0\n",
       "         49                 0                 0                 0     0\n",
       "         50                 0                 0                 0     0\n",
       "         51                 0                 0                 0     0\n",
       "         52                 0                 0                 0     0\n",
       "         53                 0                 0                 0     0\n",
       "         54                 0                 0                 0     0\n",
       "         55                 0                 0                 0     0\n",
       "         56                 0                 0                 0     0\n",
       "         57                 0                 0                 0     0\n",
       "         58                 0                 0                 0     0\n",
       "         59                 0                 0                 0     0\n",
       "         60                 0                 0                 0     1\n",
       "         61                 0                 0                 0     0\n",
       "         62                 0                 0                 0     0\n",
       "         63                 0                 0                 0     0\n",
       "         64                 0                 0                 0     0\n",
       "         65                 0                 0                 0     0\n",
       "         66                 0                 0                 0     0\n",
       "         67                 1                 0                 0     0\n",
       "         69                 0                 0                 0     0\n",
       "         70                 0                 0                 0     1\n",
       "         71                 0                 0                 0     1\n",
       "         72                 0                 0                 0     0\n",
       "         73                 0                 0                 0     0\n",
       "           test_labels\n",
       "knn_sqrt_49 0.388888888888889 0.402777777777778 0.416666666666667\n",
       "         2                  0                 0                 0\n",
       "         3                  0                 0                 0\n",
       "         5                  0                 0                 0\n",
       "         6                  0                 0                 0\n",
       "         7                  0                 0                 1\n",
       "         9                  0                 0                 0\n",
       "         10                 0                 0                 0\n",
       "         11                 0                 0                 0\n",
       "         12                 0                 0                 0\n",
       "         13                 0                 0                 2\n",
       "         14                 0                 0                 0\n",
       "         15                 0                 0                 0\n",
       "         16                 0                 0                 0\n",
       "         17                 1                 0                 0\n",
       "         18                 0                 1                 1\n",
       "         19                 0                 0                 0\n",
       "         20                 0                 0                 0\n",
       "         21                 0                 0                 0\n",
       "         22                 0                 1                 1\n",
       "         23                 0                 0                 0\n",
       "         24                 1                 1                 0\n",
       "         25                 0                 0                 0\n",
       "         26                 0                 1                 0\n",
       "         27                 0                 0                 1\n",
       "         28                 0                 0                 0\n",
       "         29                 1                 0                 1\n",
       "         30                 3                 0                 1\n",
       "         31                 0                 0                 0\n",
       "         32                 0                 1                 1\n",
       "         33                 2                 0                 0\n",
       "         34                 0                 1                 0\n",
       "         35                 3                 0                 2\n",
       "         36                 3                 0                 0\n",
       "         37                 1                 1                 0\n",
       "         38                 1                 4                 2\n",
       "         39                 0                 0                 0\n",
       "         40                 0                 0                 0\n",
       "         41                 0                 0                 0\n",
       "         42                 0                 1                 1\n",
       "         43                 1                 1                 1\n",
       "         44                 0                 0                 0\n",
       "         45                 1                 0                 0\n",
       "         46                 0                 0                 1\n",
       "         47                 0                 0                 0\n",
       "         48                 0                 1                 0\n",
       "         49                 0                 0                 0\n",
       "         50                 0                 0                 0\n",
       "         51                 0                 0                 0\n",
       "         52                 1                 0                 0\n",
       "         53                 0                 0                 0\n",
       "         54                 0                 0                 0\n",
       "         55                 0                 0                 1\n",
       "         56                 0                 0                 0\n",
       "         57                 0                 0                 0\n",
       "         58                 0                 0                 0\n",
       "         59                 0                 0                 0\n",
       "         60                 0                 0                 0\n",
       "         61                 0                 0                 0\n",
       "         62                 0                 0                 0\n",
       "         63                 0                 0                 0\n",
       "         64                 0                 0                 0\n",
       "         65                 0                 0                 0\n",
       "         66                 0                 0                 0\n",
       "         67                 0                 0                 0\n",
       "         69                 0                 0                 0\n",
       "         70                 0                 0                 0\n",
       "         71                 0                 0                 0\n",
       "         72                 0                 0                 0\n",
       "         73                 0                 0                 0\n",
       "           test_labels\n",
       "knn_sqrt_49 0.430555555555556 0.444444444444444 0.458333333333333\n",
       "         2                  0                 0                 0\n",
       "         3                  0                 0                 0\n",
       "         5                  0                 0                 0\n",
       "         6                  0                 0                 0\n",
       "         7                  0                 0                 0\n",
       "         9                  0                 0                 0\n",
       "         10                 0                 0                 0\n",
       "         11                 0                 0                 0\n",
       "         12                 0                 0                 0\n",
       "         13                 0                 0                 0\n",
       "         14                 0                 0                 0\n",
       "         15                 0                 0                 0\n",
       "         16                 0                 0                 0\n",
       "         17                 0                 0                 0\n",
       "         18                 0                 0                 0\n",
       "         19                 0                 0                 0\n",
       "         20                 0                 0                 0\n",
       "         21                 0                 0                 0\n",
       "         22                 0                 1                 0\n",
       "         23                 0                 0                 0\n",
       "         24                 1                 0                 0\n",
       "         25                 0                 0                 0\n",
       "         26                 0                 0                 0\n",
       "         27                 1                 1                 0\n",
       "         28                 0                 0                 0\n",
       "         29                 0                 0                 0\n",
       "         30                 0                 0                 0\n",
       "         31                 0                 0                 1\n",
       "         32                 0                 0                 1\n",
       "         33                 3                 1                 1\n",
       "         34                 1                 2                 2\n",
       "         35                 0                 0                 0\n",
       "         36                 1                 1                 0\n",
       "         37                 0                 0                 0\n",
       "         38                 0                 2                 1\n",
       "         39                 0                 0                 0\n",
       "         40                 0                 0                 1\n",
       "         41                 0                 0                 0\n",
       "         42                 1                 1                 1\n",
       "         43                 0                 1                 0\n",
       "         44                 0                 0                 0\n",
       "         45                 1                 1                 1\n",
       "         46                 2                 0                 2\n",
       "         47                 0                 0                 0\n",
       "         48                 1                 0                 0\n",
       "         49                 0                 0                 0\n",
       "         50                 0                 0                 0\n",
       "         51                 0                 0                 0\n",
       "         52                 0                 0                 0\n",
       "         53                 0                 0                 0\n",
       "         54                 1                 0                 0\n",
       "         55                 0                 0                 0\n",
       "         56                 0                 0                 0\n",
       "         57                 0                 0                 0\n",
       "         58                 1                 0                 1\n",
       "         59                 0                 0                 0\n",
       "         60                 0                 1                 1\n",
       "         61                 0                 0                 0\n",
       "         62                 0                 0                 1\n",
       "         63                 0                 0                 0\n",
       "         64                 0                 0                 0\n",
       "         65                 0                 1                 0\n",
       "         66                 0                 0                 0\n",
       "         67                 0                 0                 0\n",
       "         69                 0                 2                 1\n",
       "         70                 0                 0                 0\n",
       "         71                 0                 0                 0\n",
       "         72                 0                 0                 0\n",
       "         73                 0                 0                 0\n",
       "           test_labels\n",
       "knn_sqrt_49 0.472222222222222 0.486111111111111 0.5 0.513888888888889\n",
       "         2                  0                 0   0                 0\n",
       "         3                  0                 0   0                 0\n",
       "         5                  0                 0   0                 0\n",
       "         6                  0                 0   0                 0\n",
       "         7                  0                 0   0                 0\n",
       "         9                  0                 0   0                 0\n",
       "         10                 0                 0   0                 0\n",
       "         11                 0                 0   0                 0\n",
       "         12                 0                 0   0                 0\n",
       "         13                 0                 0   0                 0\n",
       "         14                 0                 0   0                 0\n",
       "         15                 0                 0   0                 0\n",
       "         16                 0                 0   0                 0\n",
       "         17                 0                 0   0                 0\n",
       "         18                 2                 0   0                 0\n",
       "         19                 0                 0   0                 0\n",
       "         20                 0                 0   0                 0\n",
       "         21                 0                 0   0                 0\n",
       "         22                 0                 1   0                 0\n",
       "         23                 0                 0   0                 0\n",
       "         24                 0                 0   0                 0\n",
       "         25                 0                 0   0                 0\n",
       "         26                 0                 0   0                 0\n",
       "         27                 0                 0   0                 0\n",
       "         28                 1                 0   0                 0\n",
       "         29                 0                 0   0                 0\n",
       "         30                 0                 1   0                 0\n",
       "         31                 1                 2   1                 0\n",
       "         32                 0                 0   0                 0\n",
       "         33                 2                 3   2                 2\n",
       "         34                 2                 0   1                 2\n",
       "         35                 0                 1   0                 0\n",
       "         36                 0                 1   2                 0\n",
       "         37                 0                 0   0                 2\n",
       "         38                 2                 2   0                 1\n",
       "         39                 0                 0   0                 0\n",
       "         40                 1                 0   0                 2\n",
       "         41                 0                 0   0                 0\n",
       "         42                 3                 2   1                 1\n",
       "         43                 2                 2   2                 0\n",
       "         44                 0                 0   0                 1\n",
       "         45                 0                 0   0                 0\n",
       "         46                 3                 1   0                 1\n",
       "         47                 0                 0   0                 0\n",
       "         48                 0                 0   2                 0\n",
       "         49                 0                 0   0                 0\n",
       "         50                 0                 0   0                 0\n",
       "         51                 0                 0   0                 0\n",
       "         52                 1                 1   0                 1\n",
       "         53                 0                 0   0                 0\n",
       "         54                 0                 0   0                 0\n",
       "         55                 0                 0   0                 0\n",
       "         56                 0                 0   0                 0\n",
       "         57                 0                 0   0                 0\n",
       "         58                 0                 0   0                 0\n",
       "         59                 0                 0   0                 0\n",
       "         60                 0                 0   0                 0\n",
       "         61                 0                 0   0                 0\n",
       "         62                 0                 0   0                 0\n",
       "         63                 0                 0   0                 0\n",
       "         64                 0                 0   0                 0\n",
       "         65                 0                 0   0                 0\n",
       "         66                 0                 0   0                 0\n",
       "         67                 0                 0   0                 0\n",
       "         69                 0                 0   2                 2\n",
       "         70                 0                 0   0                 0\n",
       "         71                 0                 0   1                 0\n",
       "         72                 0                 0   0                 0\n",
       "         73                 0                 0   0                 0\n",
       "           test_labels\n",
       "knn_sqrt_49 0.527777777777778 0.541666666666667 0.555555555555556\n",
       "         2                  0                 0                 0\n",
       "         3                  0                 0                 0\n",
       "         5                  0                 0                 0\n",
       "         6                  0                 0                 0\n",
       "         7                  0                 0                 0\n",
       "         9                  0                 0                 0\n",
       "         10                 0                 0                 0\n",
       "         11                 0                 0                 2\n",
       "         12                 0                 0                 0\n",
       "         13                 0                 0                 0\n",
       "         14                 0                 0                 0\n",
       "         15                 0                 0                 0\n",
       "         16                 0                 0                 0\n",
       "         17                 0                 0                 0\n",
       "         18                 0                 0                 0\n",
       "         19                 0                 0                 0\n",
       "         20                 0                 0                 0\n",
       "         21                 0                 0                 0\n",
       "         22                 0                 0                 0\n",
       "         23                 0                 0                 0\n",
       "         24                 0                 0                 0\n",
       "         25                 0                 0                 0\n",
       "         26                 0                 0                 0\n",
       "         27                 0                 0                 0\n",
       "         28                 0                 0                 0\n",
       "         29                 0                 0                 0\n",
       "         30                 0                 0                 0\n",
       "         31                 0                 0                 0\n",
       "         32                 0                 0                 0\n",
       "         33                 0                 1                 2\n",
       "         34                 3                 1                 0\n",
       "         35                 1                 3                 2\n",
       "         36                 2                 0                 0\n",
       "         37                 1                 0                 1\n",
       "         38                 1                 1                 2\n",
       "         39                 0                 1                 0\n",
       "         40                 0                 0                 0\n",
       "         41                 0                 1                 2\n",
       "         42                 1                 1                 3\n",
       "         43                 1                 0                 1\n",
       "         44                 1                 0                 2\n",
       "         45                 0                 0                 2\n",
       "         46                 2                 2                 0\n",
       "         47                 0                 0                 0\n",
       "         48                 1                 5                 2\n",
       "         49                 0                 0                 0\n",
       "         50                 0                 0                 0\n",
       "         51                 0                 0                 0\n",
       "         52                 1                 0                 0\n",
       "         53                 0                 0                 1\n",
       "         54                 0                 0                 1\n",
       "         55                 0                 1                 0\n",
       "         56                 0                 0                 0\n",
       "         57                 0                 0                 0\n",
       "         58                 0                 1                 0\n",
       "         59                 0                 0                 0\n",
       "         60                 0                 0                 0\n",
       "         61                 0                 0                 1\n",
       "         62                 0                 0                 1\n",
       "         63                 0                 0                 0\n",
       "         64                 0                 1                 0\n",
       "         65                 0                 0                 0\n",
       "         66                 0                 0                 0\n",
       "         67                 0                 0                 0\n",
       "         69                 0                 0                 2\n",
       "         70                 0                 0                 1\n",
       "         71                 0                 0                 0\n",
       "         72                 0                 0                 0\n",
       "         73                 0                 0                 0\n",
       "           test_labels\n",
       "knn_sqrt_49 0.569444444444444 0.583333333333333 0.597222222222222\n",
       "         2                  0                 0                 0\n",
       "         3                  0                 0                 0\n",
       "         5                  0                 0                 0\n",
       "         6                  0                 0                 0\n",
       "         7                  0                 0                 0\n",
       "         9                  0                 0                 0\n",
       "         10                 0                 0                 0\n",
       "         11                 0                 0                 0\n",
       "         12                 0                 0                 0\n",
       "         13                 0                 0                 0\n",
       "         14                 0                 0                 0\n",
       "         15                 0                 0                 0\n",
       "         16                 0                 0                 0\n",
       "         17                 0                 1                 0\n",
       "         18                 1                 1                 0\n",
       "         19                 0                 0                 0\n",
       "         20                 0                 0                 0\n",
       "         21                 0                 0                 0\n",
       "         22                 0                 0                 1\n",
       "         23                 0                 0                 0\n",
       "         24                 0                 0                 0\n",
       "         25                 0                 0                 0\n",
       "         26                 0                 0                 0\n",
       "         27                 0                 0                 0\n",
       "         28                 0                 0                 0\n",
       "         29                 0                 1                 0\n",
       "         30                 0                 0                 0\n",
       "         31                 0                 0                 0\n",
       "         32                 1                 0                 0\n",
       "         33                 1                 1                 0\n",
       "         34                 0                 1                 1\n",
       "         35                 0                 0                 3\n",
       "         36                 0                 3                 0\n",
       "         37                 0                 0                 0\n",
       "         38                 2                 2                 1\n",
       "         39                 1                 0                 0\n",
       "         40                 0                 1                 0\n",
       "         41                 1                 1                 0\n",
       "         42                 0                 0                 3\n",
       "         43                 0                 0                 0\n",
       "         44                 2                 0                 0\n",
       "         45                 0                 2                 3\n",
       "         46                 0                 0                 2\n",
       "         47                 0                 0                 0\n",
       "         48                 7                 5                 4\n",
       "         49                 0                 0                 0\n",
       "         50                 1                 0                 0\n",
       "         51                 0                 0                 0\n",
       "         52                 0                 0                 1\n",
       "         53                 1                 0                 0\n",
       "         54                 0                 0                 0\n",
       "         55                 0                 0                 1\n",
       "         56                 0                 0                 0\n",
       "         57                 0                 0                 0\n",
       "         58                 1                 1                 1\n",
       "         59                 0                 0                 0\n",
       "         60                 1                 1                 0\n",
       "         61                 0                 1                 0\n",
       "         62                 0                 0                 0\n",
       "         63                 0                 0                 0\n",
       "         64                 0                 0                 0\n",
       "         65                 0                 0                 0\n",
       "         66                 0                 0                 0\n",
       "         67                 0                 0                 0\n",
       "         69                 2                 0                 0\n",
       "         70                 0                 0                 0\n",
       "         71                 0                 0                 0\n",
       "         72                 0                 0                 0\n",
       "         73                 1                 0                 0\n",
       "           test_labels\n",
       "knn_sqrt_49 0.611111111111111 0.625 0.638888888888889 0.652777777777778\n",
       "         2                  0     0                 0                 0\n",
       "         3                  0     0                 0                 0\n",
       "         5                  0     0                 0                 0\n",
       "         6                  0     0                 0                 0\n",
       "         7                  0     0                 0                 0\n",
       "         9                  0     0                 0                 0\n",
       "         10                 0     0                 0                 0\n",
       "         11                 0     0                 0                 0\n",
       "         12                 0     0                 0                 0\n",
       "         13                 0     0                 0                 0\n",
       "         14                 0     0                 0                 0\n",
       "         15                 0     1                 0                 0\n",
       "         16                 0     0                 0                 1\n",
       "         17                 0     0                 1                 0\n",
       "         18                 0     0                 0                 0\n",
       "         19                 0     0                 0                 0\n",
       "         20                 0     0                 0                 0\n",
       "         21                 0     0                 0                 0\n",
       "         22                 0     0                 0                 0\n",
       "         23                 0     0                 0                 0\n",
       "         24                 0     0                 0                 0\n",
       "         25                 0     0                 0                 0\n",
       "         26                 0     0                 0                 0\n",
       "         27                 0     0                 0                 0\n",
       "         28                 0     0                 0                 0\n",
       "         29                 0     0                 2                 0\n",
       "         30                 0     0                 1                 0\n",
       "         31                 0     0                 0                 0\n",
       "         32                 0     0                 0                 0\n",
       "         33                 0     0                 0                 0\n",
       "         34                 0     0                 1                 0\n",
       "         35                 0     0                 2                 1\n",
       "         36                 2     1                 0                 0\n",
       "         37                 1     0                 0                 0\n",
       "         38                 4     1                 3                 2\n",
       "         39                 0     0                 0                 0\n",
       "         40                 0     0                 0                 0\n",
       "         41                 0     0                 0                 0\n",
       "         42                 1     0                 0                 1\n",
       "         43                 2     0                 2                 0\n",
       "         44                 0     0                 0                 0\n",
       "         45                 1     1                 1                 2\n",
       "         46                 2     2                 2                 2\n",
       "         47                 1     0                 0                 1\n",
       "         48                 2     2                 3                 5\n",
       "         49                 1     0                 0                 0\n",
       "         50                 1     0                 1                 1\n",
       "         51                 0     0                 0                 1\n",
       "         52                 0     0                 1                 1\n",
       "         53                 0     0                 1                 1\n",
       "         54                 0     0                 2                 1\n",
       "         55                 0     0                 0                 0\n",
       "         56                 0     0                 0                 0\n",
       "         57                 0     1                 0                 0\n",
       "         58                 0     0                 0                 3\n",
       "         59                 0     0                 0                 0\n",
       "         60                 0     1                 1                 0\n",
       "         61                 0     0                 0                 0\n",
       "         62                 0     0                 0                 0\n",
       "         63                 0     0                 0                 0\n",
       "         64                 0     0                 0                 0\n",
       "         65                 0     0                 0                 0\n",
       "         66                 0     0                 0                 0\n",
       "         67                 0     0                 0                 0\n",
       "         69                 0     2                 1                 1\n",
       "         70                 0     0                 0                 0\n",
       "         71                 0     0                 0                 0\n",
       "         72                 0     0                 0                 1\n",
       "         73                 0     0                 0                 0\n",
       "           test_labels\n",
       "knn_sqrt_49 0.666666666666667 0.680555555555556 0.694444444444444\n",
       "         2                  0                 0                 0\n",
       "         3                  0                 0                 0\n",
       "         5                  0                 0                 0\n",
       "         6                  0                 0                 0\n",
       "         7                  0                 0                 0\n",
       "         9                  0                 0                 0\n",
       "         10                 0                 0                 0\n",
       "         11                 0                 0                 0\n",
       "         12                 0                 0                 0\n",
       "         13                 0                 0                 0\n",
       "         14                 0                 0                 0\n",
       "         15                 0                 0                 0\n",
       "         16                 0                 0                 0\n",
       "         17                 0                 1                 1\n",
       "         18                 0                 0                 0\n",
       "         19                 0                 0                 0\n",
       "         20                 0                 0                 0\n",
       "         21                 0                 0                 0\n",
       "         22                 0                 0                 0\n",
       "         23                 0                 0                 0\n",
       "         24                 0                 0                 0\n",
       "         25                 0                 0                 0\n",
       "         26                 0                 0                 0\n",
       "         27                 0                 0                 0\n",
       "         28                 0                 0                 0\n",
       "         29                 0                 0                 0\n",
       "         30                 0                 0                 0\n",
       "         31                 0                 0                 0\n",
       "         32                 0                 0                 0\n",
       "         33                 0                 0                 0\n",
       "         34                 0                 2                 0\n",
       "         35                 2                 0                 3\n",
       "         36                 0                 0                 0\n",
       "         37                 0                 0                 0\n",
       "         38                 0                 1                 1\n",
       "         39                 1                 0                 0\n",
       "         40                 0                 0                 0\n",
       "         41                 0                 0                 1\n",
       "         42                 1                 0                 0\n",
       "         43                 1                 1                 0\n",
       "         44                 0                 1                 0\n",
       "         45                 3                 2                 1\n",
       "         46                 2                 2                 0\n",
       "         47                 1                 2                 0\n",
       "         48                 1                 4                 1\n",
       "         49                 0                 0                 0\n",
       "         50                 0                 0                 0\n",
       "         51                 0                 0                 2\n",
       "         52                 0                 1                 0\n",
       "         53                 0                 0                 0\n",
       "         54                 0                 0                 0\n",
       "         55                 1                 0                 0\n",
       "         56                 0                 0                 1\n",
       "         57                 1                 0                 0\n",
       "         58                 2                 2                 0\n",
       "         59                 0                 0                 0\n",
       "         60                 0                 0                 0\n",
       "         61                 0                 0                 0\n",
       "         62                 0                 0                 0\n",
       "         63                 0                 0                 0\n",
       "         64                 0                 0                 0\n",
       "         65                 0                 0                 0\n",
       "         66                 0                 0                 0\n",
       "         67                 0                 0                 0\n",
       "         69                 0                 1                 0\n",
       "         70                 0                 0                 0\n",
       "         71                 0                 0                 0\n",
       "         72                 0                 0                 0\n",
       "         73                 0                 0                 0\n",
       "           test_labels\n",
       "knn_sqrt_49 0.708333333333333 0.722222222222222 0.736111111111111 0.75\n",
       "         2                  0                 0                 0    0\n",
       "         3                  0                 0                 0    0\n",
       "         5                  0                 0                 0    0\n",
       "         6                  0                 0                 0    0\n",
       "         7                  0                 0                 0    0\n",
       "         9                  0                 0                 0    0\n",
       "         10                 0                 0                 0    0\n",
       "         11                 0                 0                 0    0\n",
       "         12                 0                 0                 0    0\n",
       "         13                 0                 0                 0    0\n",
       "         14                 0                 0                 0    0\n",
       "         15                 0                 0                 0    0\n",
       "         16                 0                 0                 0    0\n",
       "         17                 0                 0                 0    0\n",
       "         18                 1                 0                 0    0\n",
       "         19                 0                 0                 0    0\n",
       "         20                 0                 0                 0    0\n",
       "         21                 0                 0                 0    0\n",
       "         22                 0                 0                 0    0\n",
       "         23                 0                 0                 0    0\n",
       "         24                 0                 0                 0    0\n",
       "         25                 0                 0                 0    0\n",
       "         26                 0                 0                 0    0\n",
       "         27                 0                 0                 0    0\n",
       "         28                 0                 0                 0    0\n",
       "         29                 0                 0                 0    0\n",
       "         30                 0                 0                 0    0\n",
       "         31                 0                 0                 0    0\n",
       "         32                 0                 0                 0    1\n",
       "         33                 0                 1                 0    0\n",
       "         34                 2                 0                 0    1\n",
       "         35                 2                 0                 0    0\n",
       "         36                 1                 1                 0    0\n",
       "         37                 0                 0                 0    0\n",
       "         38                 0                 0                 0    0\n",
       "         39                 0                 0                 1    0\n",
       "         40                 0                 0                 0    1\n",
       "         41                 0                 0                 0    0\n",
       "         42                 1                 0                 0    1\n",
       "         43                 0                 0                 0    0\n",
       "         44                 0                 0                 0    0\n",
       "         45                 0                 0                 0    0\n",
       "         46                 3                 2                 0    1\n",
       "         47                 0                 0                 0    0\n",
       "         48                 3                 4                 2    0\n",
       "         49                 0                 1                 0    0\n",
       "         50                 2                 0                 2    1\n",
       "         51                 0                 0                 0    0\n",
       "         52                 1                 0                 0    0\n",
       "         53                 0                 0                 1    1\n",
       "         54                 0                 0                 0    1\n",
       "         55                 1                 0                 1    0\n",
       "         56                 0                 0                 1    0\n",
       "         57                 0                 0                 1    0\n",
       "         58                 0                 2                 1    0\n",
       "         59                 0                 0                 0    0\n",
       "         60                 1                 1                 0    0\n",
       "         61                 0                 0                 0    0\n",
       "         62                 0                 0                 0    0\n",
       "         63                 0                 0                 0    1\n",
       "         64                 0                 1                 0    0\n",
       "         65                 0                 0                 0    0\n",
       "         66                 0                 0                 0    0\n",
       "         67                 1                 0                 0    0\n",
       "         69                 1                 2                 0    0\n",
       "         70                 0                 1                 0    0\n",
       "         71                 0                 0                 0    0\n",
       "         72                 0                 0                 0    0\n",
       "         73                 0                 0                 0    0\n",
       "           test_labels\n",
       "knn_sqrt_49 0.763888888888889 0.777777777777778 0.791666666666667\n",
       "         2                  0                 0                 0\n",
       "         3                  0                 0                 0\n",
       "         5                  0                 0                 0\n",
       "         6                  0                 0                 0\n",
       "         7                  0                 0                 0\n",
       "         9                  0                 0                 0\n",
       "         10                 0                 0                 0\n",
       "         11                 0                 0                 0\n",
       "         12                 0                 0                 0\n",
       "         13                 0                 0                 0\n",
       "         14                 0                 0                 0\n",
       "         15                 0                 0                 0\n",
       "         16                 0                 0                 0\n",
       "         17                 0                 0                 0\n",
       "         18                 0                 0                 0\n",
       "         19                 0                 0                 0\n",
       "         20                 0                 0                 0\n",
       "         21                 0                 0                 0\n",
       "         22                 0                 0                 0\n",
       "         23                 0                 0                 0\n",
       "         24                 0                 0                 0\n",
       "         25                 0                 0                 0\n",
       "         26                 0                 0                 0\n",
       "         27                 0                 0                 0\n",
       "         28                 0                 0                 0\n",
       "         29                 0                 0                 0\n",
       "         30                 0                 0                 0\n",
       "         31                 0                 0                 0\n",
       "         32                 0                 0                 0\n",
       "         33                 1                 1                 0\n",
       "         34                 2                 0                 0\n",
       "         35                 0                 0                 0\n",
       "         36                 0                 0                 1\n",
       "         37                 0                 0                 0\n",
       "         38                 0                 1                 1\n",
       "         39                 0                 0                 0\n",
       "         40                 0                 1                 0\n",
       "         41                 0                 0                 0\n",
       "         42                 1                 0                 0\n",
       "         43                 0                 1                 0\n",
       "         44                 0                 1                 0\n",
       "         45                 0                 0                 1\n",
       "         46                 2                 1                 1\n",
       "         47                 0                 0                 0\n",
       "         48                 3                 1                 0\n",
       "         49                 0                 0                 0\n",
       "         50                 0                 2                 0\n",
       "         51                 0                 0                 0\n",
       "         52                 0                 0                 1\n",
       "         53                 1                 2                 1\n",
       "         54                 0                 0                 1\n",
       "         55                 0                 0                 0\n",
       "         56                 0                 1                 1\n",
       "         57                 0                 0                 0\n",
       "         58                 1                 0                 0\n",
       "         59                 0                 0                 0\n",
       "         60                 0                 0                 0\n",
       "         61                 0                 0                 0\n",
       "         62                 0                 0                 0\n",
       "         63                 0                 0                 0\n",
       "         64                 0                 0                 0\n",
       "         65                 0                 0                 0\n",
       "         66                 0                 0                 0\n",
       "         67                 0                 0                 0\n",
       "         69                 1                 2                 0\n",
       "         70                 0                 0                 0\n",
       "         71                 0                 0                 0\n",
       "         72                 1                 0                 0\n",
       "         73                 0                 0                 0\n",
       "           test_labels\n",
       "knn_sqrt_49 0.805555555555556 0.819444444444444 0.833333333333333\n",
       "         2                  0                 0                 0\n",
       "         3                  0                 0                 0\n",
       "         5                  0                 0                 0\n",
       "         6                  0                 0                 0\n",
       "         7                  0                 0                 0\n",
       "         9                  0                 0                 0\n",
       "         10                 0                 0                 0\n",
       "         11                 0                 0                 0\n",
       "         12                 0                 0                 0\n",
       "         13                 0                 0                 0\n",
       "         14                 0                 0                 0\n",
       "         15                 0                 0                 0\n",
       "         16                 0                 0                 0\n",
       "         17                 0                 1                 0\n",
       "         18                 0                 0                 0\n",
       "         19                 0                 0                 0\n",
       "         20                 0                 0                 0\n",
       "         21                 0                 0                 0\n",
       "         22                 0                 0                 0\n",
       "         23                 0                 0                 0\n",
       "         24                 0                 0                 0\n",
       "         25                 0                 0                 0\n",
       "         26                 0                 0                 0\n",
       "         27                 0                 0                 0\n",
       "         28                 0                 0                 0\n",
       "         29                 0                 0                 0\n",
       "         30                 0                 0                 0\n",
       "         31                 0                 0                 0\n",
       "         32                 0                 0                 0\n",
       "         33                 0                 0                 0\n",
       "         34                 0                 0                 1\n",
       "         35                 1                 0                 0\n",
       "         36                 0                 0                 0\n",
       "         37                 0                 0                 0\n",
       "         38                 1                 0                 0\n",
       "         39                 0                 0                 0\n",
       "         40                 0                 1                 1\n",
       "         41                 0                 0                 0\n",
       "         42                 0                 0                 1\n",
       "         43                 1                 2                 0\n",
       "         44                 0                 0                 0\n",
       "         45                 0                 1                 0\n",
       "         46                 2                 0                 1\n",
       "         47                 0                 0                 0\n",
       "         48                 2                 1                 1\n",
       "         49                 0                 0                 0\n",
       "         50                 1                 0                 0\n",
       "         51                 0                 0                 0\n",
       "         52                 0                 1                 0\n",
       "         53                 0                 1                 0\n",
       "         54                 1                 3                 0\n",
       "         55                 0                 0                 1\n",
       "         56                 1                 0                 0\n",
       "         57                 0                 0                 0\n",
       "         58                 0                 0                 0\n",
       "         59                 0                 0                 0\n",
       "         60                 0                 2                 0\n",
       "         61                 0                 0                 0\n",
       "         62                 0                 0                 0\n",
       "         63                 1                 0                 0\n",
       "         64                 0                 0                 0\n",
       "         65                 0                 0                 0\n",
       "         66                 0                 0                 0\n",
       "         67                 0                 0                 1\n",
       "         69                 1                 2                 1\n",
       "         70                 0                 0                 1\n",
       "         71                 0                 0                 0\n",
       "         72                 0                 0                 0\n",
       "         73                 0                 0                 0\n",
       "           test_labels\n",
       "knn_sqrt_49 0.847222222222222 0.861111111111111 0.875 0.888888888888889\n",
       "         2                  0                 0     0                 0\n",
       "         3                  0                 0     0                 0\n",
       "         5                  0                 0     0                 0\n",
       "         6                  0                 0     0                 0\n",
       "         7                  0                 0     0                 0\n",
       "         9                  0                 0     0                 0\n",
       "         10                 0                 0     0                 0\n",
       "         11                 1                 0     0                 0\n",
       "         12                 0                 0     0                 0\n",
       "         13                 0                 0     0                 0\n",
       "         14                 0                 0     0                 0\n",
       "         15                 0                 0     0                 0\n",
       "         16                 0                 0     0                 0\n",
       "         17                 0                 0     0                 0\n",
       "         18                 0                 0     0                 0\n",
       "         19                 0                 0     0                 0\n",
       "         20                 0                 0     0                 0\n",
       "         21                 0                 0     0                 0\n",
       "         22                 0                 0     0                 0\n",
       "         23                 0                 0     0                 0\n",
       "         24                 0                 0     0                 0\n",
       "         25                 0                 0     0                 0\n",
       "         26                 0                 0     0                 0\n",
       "         27                 0                 0     0                 0\n",
       "         28                 0                 0     0                 0\n",
       "         29                 0                 0     0                 0\n",
       "         30                 0                 0     0                 0\n",
       "         31                 0                 0     0                 0\n",
       "         32                 0                 0     0                 0\n",
       "         33                 0                 0     1                 0\n",
       "         34                 1                 0     0                 1\n",
       "         35                 0                 0     0                 0\n",
       "         36                 1                 0     0                 1\n",
       "         37                 0                 0     0                 0\n",
       "         38                 0                 0     0                 0\n",
       "         39                 0                 0     0                 0\n",
       "         40                 1                 0     0                 0\n",
       "         41                 0                 0     0                 0\n",
       "         42                 0                 1     3                 0\n",
       "         43                 1                 0     0                 0\n",
       "         44                 0                 0     0                 0\n",
       "         45                 1                 0     0                 0\n",
       "         46                 2                 0     1                 0\n",
       "         47                 0                 0     0                 0\n",
       "         48                 4                 0     1                 2\n",
       "         49                 0                 0     0                 0\n",
       "         50                 1                 0     0                 0\n",
       "         51                 1                 0     0                 0\n",
       "         52                 1                 1     0                 0\n",
       "         53                 0                 0     0                 0\n",
       "         54                 0                 0     0                 0\n",
       "         55                 0                 0     0                 0\n",
       "         56                 0                 0     0                 0\n",
       "         57                 2                 0     0                 0\n",
       "         58                 1                 2     2                 0\n",
       "         59                 0                 1     0                 0\n",
       "         60                 0                 0     2                 0\n",
       "         61                 0                 0     0                 2\n",
       "         62                 0                 0     0                 0\n",
       "         63                 1                 1     1                 0\n",
       "         64                 1                 0     0                 0\n",
       "         65                 0                 1     0                 0\n",
       "         66                 0                 1     1                 0\n",
       "         67                 0                 1     0                 2\n",
       "         69                 1                 1     1                 0\n",
       "         70                 0                 1     0                 0\n",
       "         71                 0                 1     0                 0\n",
       "         72                 0                 0     1                 0\n",
       "         73                 0                 0     0                 1\n",
       "           test_labels\n",
       "knn_sqrt_49 0.902777777777778 0.916666666666667 0.930555555555556\n",
       "         2                  0                 0                 0\n",
       "         3                  0                 0                 0\n",
       "         5                  0                 0                 0\n",
       "         6                  0                 0                 0\n",
       "         7                  0                 0                 0\n",
       "         9                  0                 0                 0\n",
       "         10                 0                 0                 0\n",
       "         11                 0                 0                 0\n",
       "         12                 0                 0                 0\n",
       "         13                 0                 0                 0\n",
       "         14                 0                 0                 0\n",
       "         15                 0                 0                 0\n",
       "         16                 0                 0                 0\n",
       "         17                 0                 0                 0\n",
       "         18                 0                 0                 0\n",
       "         19                 0                 0                 0\n",
       "         20                 0                 0                 0\n",
       "         21                 0                 0                 0\n",
       "         22                 0                 0                 0\n",
       "         23                 0                 0                 0\n",
       "         24                 0                 0                 0\n",
       "         25                 0                 0                 0\n",
       "         26                 0                 0                 0\n",
       "         27                 0                 0                 0\n",
       "         28                 0                 0                 0\n",
       "         29                 0                 0                 0\n",
       "         30                 0                 0                 0\n",
       "         31                 0                 0                 0\n",
       "         32                 0                 1                 0\n",
       "         33                 0                 0                 0\n",
       "         34                 1                 0                 0\n",
       "         35                 0                 0                 0\n",
       "         36                 0                 0                 0\n",
       "         37                 0                 0                 0\n",
       "         38                 1                 0                 1\n",
       "         39                 0                 0                 0\n",
       "         40                 0                 0                 0\n",
       "         41                 0                 0                 0\n",
       "         42                 0                 2                 0\n",
       "         43                 0                 0                 0\n",
       "         44                 0                 0                 0\n",
       "         45                 1                 0                 0\n",
       "         46                 1                 1                 0\n",
       "         47                 0                 0                 1\n",
       "         48                 0                 0                 1\n",
       "         49                 0                 0                 0\n",
       "         50                 0                 0                 1\n",
       "         51                 0                 0                 0\n",
       "         52                 0                 0                 0\n",
       "         53                 0                 0                 0\n",
       "         54                 2                 0                 0\n",
       "         55                 0                 1                 0\n",
       "         56                 1                 0                 0\n",
       "         57                 0                 0                 0\n",
       "         58                 1                 3                 0\n",
       "         59                 0                 0                 0\n",
       "         60                 1                 1                 1\n",
       "         61                 1                 0                 0\n",
       "         62                 0                 1                 0\n",
       "         63                 0                 0                 1\n",
       "         64                 0                 0                 0\n",
       "         65                 0                 0                 0\n",
       "         66                 0                 0                 0\n",
       "         67                 0                 0                 1\n",
       "         69                 2                 0                 1\n",
       "         70                 0                 0                 0\n",
       "         71                 0                 0                 0\n",
       "         72                 0                 0                 0\n",
       "         73                 2                 1                 0\n",
       "           test_labels\n",
       "knn_sqrt_49 0.944444444444444 0.958333333333333 0.972222222222222\n",
       "         2                  0                 0                 0\n",
       "         3                  0                 0                 0\n",
       "         5                  0                 0                 0\n",
       "         6                  0                 0                 0\n",
       "         7                  0                 0                 0\n",
       "         9                  0                 0                 0\n",
       "         10                 0                 0                 0\n",
       "         11                 0                 0                 0\n",
       "         12                 0                 0                 0\n",
       "         13                 0                 0                 0\n",
       "         14                 0                 0                 0\n",
       "         15                 0                 0                 0\n",
       "         16                 0                 0                 0\n",
       "         17                 0                 0                 0\n",
       "         18                 0                 0                 0\n",
       "         19                 0                 0                 0\n",
       "         20                 0                 0                 0\n",
       "         21                 0                 0                 0\n",
       "         22                 0                 0                 0\n",
       "         23                 0                 0                 0\n",
       "         24                 0                 0                 0\n",
       "         25                 0                 0                 0\n",
       "         26                 0                 0                 0\n",
       "         27                 0                 0                 0\n",
       "         28                 0                 0                 0\n",
       "         29                 0                 0                 0\n",
       "         30                 0                 0                 0\n",
       "         31                 0                 0                 0\n",
       "         32                 0                 0                 0\n",
       "         33                 1                 0                 1\n",
       "         34                 0                 0                 0\n",
       "         35                 1                 0                 0\n",
       "         36                 0                 0                 0\n",
       "         37                 0                 0                 0\n",
       "         38                 1                 0                 1\n",
       "         39                 0                 0                 0\n",
       "         40                 0                 0                 0\n",
       "         41                 0                 0                 0\n",
       "         42                 1                 1                 0\n",
       "         43                 0                 1                 0\n",
       "         44                 0                 0                 0\n",
       "         45                 0                 0                 0\n",
       "         46                 1                 1                 0\n",
       "         47                 0                 1                 0\n",
       "         48                 6                 3                 3\n",
       "         49                 0                 0                 0\n",
       "         50                 0                 0                 0\n",
       "         51                 0                 0                 0\n",
       "         52                 0                 1                 1\n",
       "         53                 1                 0                 0\n",
       "         54                 3                 1                 1\n",
       "         55                 1                 0                 0\n",
       "         56                 0                 1                 0\n",
       "         57                 0                 1                 0\n",
       "         58                 0                 0                 0\n",
       "         59                 1                 0                 0\n",
       "         60                 0                 0                 2\n",
       "         61                 0                 0                 0\n",
       "         62                 0                 0                 0\n",
       "         63                 1                 0                 1\n",
       "         64                 0                 0                 0\n",
       "         65                 0                 0                 0\n",
       "         66                 0                 1                 1\n",
       "         67                 0                 1                 3\n",
       "         69                 3                 1                 3\n",
       "         70                 2                 4                 1\n",
       "         71                 1                 1                 0\n",
       "         72                 0                 0                 2\n",
       "         73                 0                 0                 0\n",
       "           test_labels\n",
       "knn_sqrt_49 0.986111111111111 1\n",
       "         2                  0 0\n",
       "         3                  0 0\n",
       "         5                  0 0\n",
       "         6                  0 0\n",
       "         7                  0 0\n",
       "         9                  0 0\n",
       "         10                 0 0\n",
       "         11                 0 0\n",
       "         12                 0 0\n",
       "         13                 0 0\n",
       "         14                 0 0\n",
       "         15                 0 0\n",
       "         16                 0 0\n",
       "         17                 0 0\n",
       "         18                 1 1\n",
       "         19                 0 0\n",
       "         20                 0 0\n",
       "         21                 0 0\n",
       "         22                 0 0\n",
       "         23                 0 0\n",
       "         24                 0 0\n",
       "         25                 0 0\n",
       "         26                 0 0\n",
       "         27                 0 0\n",
       "         28                 0 0\n",
       "         29                 0 0\n",
       "         30                 0 0\n",
       "         31                 0 0\n",
       "         32                 0 0\n",
       "         33                 1 0\n",
       "         34                 0 1\n",
       "         35                 0 0\n",
       "         36                 0 0\n",
       "         37                 0 0\n",
       "         38                 0 1\n",
       "         39                 0 0\n",
       "         40                 0 0\n",
       "         41                 1 0\n",
       "         42                 1 1\n",
       "         43                 1 0\n",
       "         44                 0 0\n",
       "         45                 0 0\n",
       "         46                 0 1\n",
       "         47                 0 0\n",
       "         48                 0 1\n",
       "         49                 0 0\n",
       "         50                 1 0\n",
       "         51                 0 0\n",
       "         52                 0 0\n",
       "         53                 0 0\n",
       "         54                 0 0\n",
       "         55                 0 0\n",
       "         56                 0 0\n",
       "         57                 0 0\n",
       "         58                 0 1\n",
       "         59                 0 0\n",
       "         60                 1 0\n",
       "         61                 1 0\n",
       "         62                 0 0\n",
       "         63                 0 1\n",
       "         64                 0 1\n",
       "         65                 0 0\n",
       "         66                 0 0\n",
       "         67                 1 0\n",
       "         69                 3 2\n",
       "         70                 1 1\n",
       "         71                 1 0\n",
       "         72                 1 1\n",
       "         73                 0 1"
      ]
     },
     "metadata": {},
     "output_type": "display_data"
    }
   ],
   "source": [
    "table(knn_sqrt_49, test_labels)"
   ]
  },
  {
   "cell_type": "code",
   "execution_count": 67,
   "id": "12ef3cd5",
   "metadata": {},
   "outputs": [
    {
     "data": {
      "text/html": [
       "0.8"
      ],
      "text/latex": [
       "0.8"
      ],
      "text/markdown": [
       "0.8"
      ],
      "text/plain": [
       "[1] 0.8"
      ]
     },
     "metadata": {},
     "output_type": "display_data"
    }
   ],
   "source": [
    "#Manual confusion matrix math.\n",
    "cm_49 = (0.0138888888888889+0.0416666666666667)/(0.0277777777777778+0.0416666666666667)\n",
    "cm_49"
   ]
  },
  {
   "cell_type": "markdown",
   "id": "67f597a0",
   "metadata": {},
   "source": [
    "### Naive Bayes"
   ]
  },
  {
   "cell_type": "code",
   "execution_count": 68,
   "id": "67c70bcf",
   "metadata": {},
   "outputs": [],
   "source": [
    "#Creating train, test for this model.\n",
    "train_scale <- scale(train[, 1:4])\n",
    "test_scale <- scale(test[, 1:4])"
   ]
  },
  {
   "cell_type": "code",
   "execution_count": 69,
   "id": "b7fa22d8",
   "metadata": {
    "scrolled": false
   },
   "outputs": [
    {
     "data": {
      "text/plain": [
       "\n",
       "Naive Bayes Classifier for Discrete Predictors\n",
       "\n",
       "Call:\n",
       "naiveBayes.default(x = X, y = Y, laplace = laplace)\n",
       "\n",
       "A-priori probabilities:\n",
       "Y\n",
       "         0          1 \n",
       "0.94785148 0.05214852 \n",
       "\n",
       "Conditional probabilities:\n",
       "   age\n",
       "Y       [,1]     [,2]\n",
       "  0 47.23063 18.55895\n",
       "  1 67.44000 12.21210\n",
       "\n",
       "   hypertension\n",
       "Y        [,1]      [,2]\n",
       "  0 0.1012324 0.3017026\n",
       "  1 0.3200000 0.4683533\n",
       "\n",
       "   heart_disease\n",
       "Y         [,1]      [,2]\n",
       "  0 0.05237676 0.2228347\n",
       "  1 0.18400000 0.3890435\n",
       "\n",
       "   ever_married\n",
       "Y        [,1]      [,2]\n",
       "  0 0.7491197 0.4336152\n",
       "  1 0.8720000 0.3354342\n",
       "\n",
       "   avg_glucose_level\n",
       "Y       [,1]     [,2]\n",
       "  0 106.8983 46.22935\n",
       "  1 135.7537 62.65063\n",
       "\n",
       "   bmi\n",
       "Y       [,1]     [,2]\n",
       "  0 30.25775 7.314115\n",
       "  1 30.31440 5.887544\n",
       "\n",
       "   work_type_children\n",
       "Y         [,1]      [,2]\n",
       "  0 0.02376761 0.1523579\n",
       "  1 0.00000000 0.0000000\n",
       "\n",
       "   work_type_Govt_job\n",
       "Y        [,1]      [,2]\n",
       "  0 0.1478873 0.3550664\n",
       "  1 0.1360000 0.3441680\n",
       "\n",
       "   work_type_Never_worked\n",
       "Y          [,1]       [,2]\n",
       "  0 0.004401408 0.06621152\n",
       "  1 0.000000000 0.00000000\n",
       "\n",
       "   work_type_Private\n",
       "Y        [,1]      [,2]\n",
       "  0 0.6443662 0.4788103\n",
       "  1 0.5840000 0.4948770\n",
       "\n",
       "   work_type_Self-employed\n",
       "Y        [,1]      [,2]\n",
       "  0 0.1795775 0.3839196\n",
       "  1 0.2800000 0.4508057\n",
       "\n",
       "   Residence_type_Rural\n",
       "Y       [,1]      [,2]\n",
       "  0 0.493838 0.5000721\n",
       "  1 0.472000 0.5012243\n",
       "\n",
       "   Residence_type_Urban\n",
       "Y       [,1]      [,2]\n",
       "  0 0.506162 0.5000721\n",
       "  1 0.528000 0.5012243\n",
       "\n",
       "   smoking_status_formerly smoked\n",
       "Y        [,1]      [,2]\n",
       "  0 0.2389965 0.4265645\n",
       "  1 0.3440000 0.4769527\n",
       "\n",
       "   smoking_status_never smoked\n",
       "Y        [,1]      [,2]\n",
       "  0 0.5409331 0.4984314\n",
       "  1 0.4800000 0.5016103\n",
       "\n",
       "   smoking_status_smokes\n",
       "Y        [,1]      [,2]\n",
       "  0 0.2200704 0.4143851\n",
       "  1 0.1760000 0.3823526\n",
       "\n",
       "   gender_Female\n",
       "Y        [,1]      [,2]\n",
       "  0 0.5972711 0.4905550\n",
       "  1 0.6000000 0.4918694\n",
       "\n",
       "   gender_Male\n",
       "Y        [,1]      [,2]\n",
       "  0 0.4027289 0.4905550\n",
       "  1 0.4000000 0.4918694\n"
      ]
     },
     "metadata": {},
     "output_type": "display_data"
    }
   ],
   "source": [
    "classifier_cl <- naiveBayes(stroke ~. , data = train)\n",
    "classifier_cl"
   ]
  },
  {
   "cell_type": "code",
   "execution_count": 70,
   "id": "28993aba",
   "metadata": {
    "scrolled": true
   },
   "outputs": [
    {
     "data": {
      "text/plain": [
       "\n",
       "Naive Bayes Classifier for Discrete Predictors\n",
       "\n",
       "Call:\n",
       "naiveBayes.default(x = X, y = Y, laplace = laplace)\n",
       "\n",
       "A-priori probabilities:\n",
       "Y\n",
       "         0          1 \n",
       "0.94785148 0.05214852 \n",
       "\n",
       "Conditional probabilities:\n",
       "   age\n",
       "Y       [,1]     [,2]\n",
       "  0 47.23063 18.55895\n",
       "  1 67.44000 12.21210\n",
       "\n",
       "   hypertension\n",
       "Y        [,1]      [,2]\n",
       "  0 0.1012324 0.3017026\n",
       "  1 0.3200000 0.4683533\n",
       "\n",
       "   heart_disease\n",
       "Y         [,1]      [,2]\n",
       "  0 0.05237676 0.2228347\n",
       "  1 0.18400000 0.3890435\n",
       "\n",
       "   ever_married\n",
       "Y        [,1]      [,2]\n",
       "  0 0.7491197 0.4336152\n",
       "  1 0.8720000 0.3354342\n",
       "\n",
       "   avg_glucose_level\n",
       "Y       [,1]     [,2]\n",
       "  0 106.8983 46.22935\n",
       "  1 135.7537 62.65063\n",
       "\n",
       "   bmi\n",
       "Y       [,1]     [,2]\n",
       "  0 30.25775 7.314115\n",
       "  1 30.31440 5.887544\n",
       "\n",
       "   work_type_children\n",
       "Y         [,1]      [,2]\n",
       "  0 0.02376761 0.1523579\n",
       "  1 0.00000000 0.0000000\n",
       "\n",
       "   work_type_Govt_job\n",
       "Y        [,1]      [,2]\n",
       "  0 0.1478873 0.3550664\n",
       "  1 0.1360000 0.3441680\n",
       "\n",
       "   work_type_Never_worked\n",
       "Y          [,1]       [,2]\n",
       "  0 0.004401408 0.06621152\n",
       "  1 0.000000000 0.00000000\n",
       "\n",
       "   work_type_Private\n",
       "Y        [,1]      [,2]\n",
       "  0 0.6443662 0.4788103\n",
       "  1 0.5840000 0.4948770\n",
       "\n",
       "   work_type_Self-employed\n",
       "Y        [,1]      [,2]\n",
       "  0 0.1795775 0.3839196\n",
       "  1 0.2800000 0.4508057\n",
       "\n",
       "   Residence_type_Rural\n",
       "Y       [,1]      [,2]\n",
       "  0 0.493838 0.5000721\n",
       "  1 0.472000 0.5012243\n",
       "\n",
       "   Residence_type_Urban\n",
       "Y       [,1]      [,2]\n",
       "  0 0.506162 0.5000721\n",
       "  1 0.528000 0.5012243\n",
       "\n",
       "   smoking_status_formerly smoked\n",
       "Y        [,1]      [,2]\n",
       "  0 0.2389965 0.4265645\n",
       "  1 0.3440000 0.4769527\n",
       "\n",
       "   smoking_status_never smoked\n",
       "Y        [,1]      [,2]\n",
       "  0 0.5409331 0.4984314\n",
       "  1 0.4800000 0.5016103\n",
       "\n",
       "   smoking_status_smokes\n",
       "Y        [,1]      [,2]\n",
       "  0 0.2200704 0.4143851\n",
       "  1 0.1760000 0.3823526\n",
       "\n",
       "   gender_Female\n",
       "Y        [,1]      [,2]\n",
       "  0 0.5972711 0.4905550\n",
       "  1 0.6000000 0.4918694\n",
       "\n",
       "   gender_Male\n",
       "Y        [,1]      [,2]\n",
       "  0 0.4027289 0.4905550\n",
       "  1 0.4000000 0.4918694\n"
      ]
     },
     "metadata": {},
     "output_type": "display_data"
    }
   ],
   "source": [
    "classifier_cl <- naiveBayes(stroke ~. , data = train)\n",
    "classifier_cl"
   ]
  },
  {
   "cell_type": "code",
   "execution_count": 71,
   "id": "679c2879",
   "metadata": {},
   "outputs": [],
   "source": [
    "NB_Accuracy <- 0.94785"
   ]
  },
  {
   "cell_type": "markdown",
   "id": "334fda3a",
   "metadata": {},
   "source": [
    "### Best Model"
   ]
  },
  {
   "cell_type": "code",
   "execution_count": 99,
   "id": "7edb76bf",
   "metadata": {},
   "outputs": [
    {
     "name": "stdout",
     "output_type": "stream",
     "text": [
      "[1] \"Logistic Regression\"\n"
     ]
    },
    {
     "data": {
      "text/html": [
       "94.7419668938656"
      ],
      "text/latex": [
       "94.7419668938656"
      ],
      "text/markdown": [
       "94.7419668938656"
      ],
      "text/plain": [
       "[1] 94.74197"
      ]
     },
     "metadata": {},
     "output_type": "display_data"
    }
   ],
   "source": [
    "print(\"Logistic Regression\")\n",
    "logistic_accuracy*100"
   ]
  },
  {
   "cell_type": "code",
   "execution_count": 101,
   "id": "a0277c7c",
   "metadata": {},
   "outputs": [
    {
     "name": "stdout",
     "output_type": "stream",
     "text": [
      "[1] \"Decision Tree\"\n"
     ]
    },
    {
     "data": {
      "text/html": [
       "46.2062256809339"
      ],
      "text/latex": [
       "46.2062256809339"
      ],
      "text/markdown": [
       "46.2062256809339"
      ],
      "text/plain": [
       "[1] 46.20623"
      ]
     },
     "metadata": {},
     "output_type": "display_data"
    }
   ],
   "source": [
    "print(\"Decision Tree\")\n",
    "DT_Acc*100"
   ]
  },
  {
   "cell_type": "code",
   "execution_count": 102,
   "id": "06f2dcec",
   "metadata": {
    "scrolled": true
   },
   "outputs": [
    {
     "name": "stdout",
     "output_type": "stream",
     "text": [
      "[1] \"Random Forest\"\n"
     ]
    },
    {
     "data": {
      "text/html": [
       "94.8106494380193"
      ],
      "text/latex": [
       "94.8106494380193"
      ],
      "text/markdown": [
       "94.8106494380193"
      ],
      "text/plain": [
       "[1] 94.81065"
      ]
     },
     "metadata": {},
     "output_type": "display_data"
    }
   ],
   "source": [
    "print(\"Random Forest\")\n",
    "RFAccuracy*100"
   ]
  },
  {
   "cell_type": "code",
   "execution_count": 103,
   "id": "bb938c24",
   "metadata": {},
   "outputs": [
    {
     "name": "stdout",
     "output_type": "stream",
     "text": [
      "[1] \"SVM\"\n"
     ]
    },
    {
     "data": {
      "text/html": [
       "95.4280155642023"
      ],
      "text/latex": [
       "95.4280155642023"
      ],
      "text/markdown": [
       "95.4280155642023"
      ],
      "text/plain": [
       "[1] 95.42802"
      ]
     },
     "metadata": {},
     "output_type": "display_data"
    }
   ],
   "source": [
    "print(\"SVM\")\n",
    "SVM_specificity*100"
   ]
  },
  {
   "cell_type": "code",
   "execution_count": 104,
   "id": "1a0b2b82",
   "metadata": {},
   "outputs": [
    {
     "name": "stdout",
     "output_type": "stream",
     "text": [
      "[1] \"KNN Neighbors\"\n"
     ]
    },
    {
     "data": {
      "text/html": [
       "80"
      ],
      "text/latex": [
       "80"
      ],
      "text/markdown": [
       "80"
      ],
      "text/plain": [
       "[1] 80"
      ]
     },
     "metadata": {},
     "output_type": "display_data"
    }
   ],
   "source": [
    "print(\"KNN Neighbors\")\n",
    "cm_49*100"
   ]
  },
  {
   "cell_type": "code",
   "execution_count": 105,
   "id": "800c3ed7",
   "metadata": {
    "scrolled": true
   },
   "outputs": [
    {
     "name": "stdout",
     "output_type": "stream",
     "text": [
      "[1] \"Naive Baiyes\"\n"
     ]
    },
    {
     "data": {
      "text/html": [
       "94.785"
      ],
      "text/latex": [
       "94.785"
      ],
      "text/markdown": [
       "94.785"
      ],
      "text/plain": [
       "[1] 94.785"
      ]
     },
     "metadata": {},
     "output_type": "display_data"
    }
   ],
   "source": [
    "print(\"Naive Baiyes\")\n",
    "NB_Accuracy*100"
   ]
  },
  {
   "cell_type": "code",
   "execution_count": 107,
   "id": "b3d7104e",
   "metadata": {},
   "outputs": [
    {
     "data": {
      "text/html": [
       "95.4280155642023"
      ],
      "text/latex": [
       "95.4280155642023"
      ],
      "text/markdown": [
       "95.4280155642023"
      ],
      "text/plain": [
       "[1] 95.42802"
      ]
     },
     "metadata": {},
     "output_type": "display_data"
    }
   ],
   "source": [
    "accuracy_list <- c(logistic_accuracy,DT_Acc, RFAccuracy, SVM_specificity, cm_49, NB_Accuracy)\n",
    "max(accuracy_list*100)\n",
    "#SVM"
   ]
  }
 ],
 "metadata": {
  "kernelspec": {
   "display_name": "R",
   "language": "R",
   "name": "ir"
  },
  "language_info": {
   "codemirror_mode": "r",
   "file_extension": ".r",
   "mimetype": "text/x-r-source",
   "name": "R",
   "pygments_lexer": "r",
   "version": "4.1.3"
  }
 },
 "nbformat": 4,
 "nbformat_minor": 5
}
